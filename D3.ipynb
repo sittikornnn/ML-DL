{
 "cells": [
  {
   "cell_type": "code",
   "execution_count": 113,
   "id": "f01b9b79",
   "metadata": {},
   "outputs": [],
   "source": [
    "import pandas as pd\n",
    "from matplotlib import pyplot as plt"
   ]
  },
  {
   "cell_type": "code",
   "execution_count": 114,
   "id": "fef2c7b9",
   "metadata": {},
   "outputs": [],
   "source": [
    "data = pd.read_csv('D3.csv')"
   ]
  },
  {
   "cell_type": "code",
   "execution_count": null,
   "id": "2551e853",
   "metadata": {},
   "outputs": [],
   "source": [
    "df = data.copy()"
   ]
  },
  {
   "cell_type": "code",
   "execution_count": 116,
   "id": "f84e7f68",
   "metadata": {},
   "outputs": [
    {
     "data": {
      "text/html": [
       "<div>\n",
       "<style scoped>\n",
       "    .dataframe tbody tr th:only-of-type {\n",
       "        vertical-align: middle;\n",
       "    }\n",
       "\n",
       "    .dataframe tbody tr th {\n",
       "        vertical-align: top;\n",
       "    }\n",
       "\n",
       "    .dataframe thead th {\n",
       "        text-align: right;\n",
       "    }\n",
       "</style>\n",
       "<table border=\"1\" class=\"dataframe\">\n",
       "  <thead>\n",
       "    <tr style=\"text-align: right;\">\n",
       "      <th></th>\n",
       "      <th>id</th>\n",
       "      <th>age</th>\n",
       "      <th>bp</th>\n",
       "      <th>sg</th>\n",
       "      <th>al</th>\n",
       "      <th>su</th>\n",
       "      <th>rbc</th>\n",
       "      <th>pc</th>\n",
       "      <th>pcc</th>\n",
       "      <th>ba</th>\n",
       "      <th>...</th>\n",
       "      <th>pcv</th>\n",
       "      <th>wc</th>\n",
       "      <th>rc</th>\n",
       "      <th>htn</th>\n",
       "      <th>dm</th>\n",
       "      <th>cad</th>\n",
       "      <th>appet</th>\n",
       "      <th>pe</th>\n",
       "      <th>ane</th>\n",
       "      <th>classification</th>\n",
       "    </tr>\n",
       "  </thead>\n",
       "  <tbody>\n",
       "    <tr>\n",
       "      <th>0</th>\n",
       "      <td>0</td>\n",
       "      <td>48.0</td>\n",
       "      <td>80.0</td>\n",
       "      <td>1.020</td>\n",
       "      <td>1.0</td>\n",
       "      <td>0.0</td>\n",
       "      <td>NaN</td>\n",
       "      <td>normal</td>\n",
       "      <td>notpresent</td>\n",
       "      <td>notpresent</td>\n",
       "      <td>...</td>\n",
       "      <td>44</td>\n",
       "      <td>7800</td>\n",
       "      <td>5.2</td>\n",
       "      <td>yes</td>\n",
       "      <td>yes</td>\n",
       "      <td>no</td>\n",
       "      <td>good</td>\n",
       "      <td>no</td>\n",
       "      <td>no</td>\n",
       "      <td>ckd</td>\n",
       "    </tr>\n",
       "    <tr>\n",
       "      <th>1</th>\n",
       "      <td>1</td>\n",
       "      <td>7.0</td>\n",
       "      <td>50.0</td>\n",
       "      <td>1.020</td>\n",
       "      <td>4.0</td>\n",
       "      <td>0.0</td>\n",
       "      <td>NaN</td>\n",
       "      <td>normal</td>\n",
       "      <td>notpresent</td>\n",
       "      <td>notpresent</td>\n",
       "      <td>...</td>\n",
       "      <td>38</td>\n",
       "      <td>6000</td>\n",
       "      <td>NaN</td>\n",
       "      <td>no</td>\n",
       "      <td>no</td>\n",
       "      <td>no</td>\n",
       "      <td>good</td>\n",
       "      <td>no</td>\n",
       "      <td>no</td>\n",
       "      <td>ckd</td>\n",
       "    </tr>\n",
       "    <tr>\n",
       "      <th>2</th>\n",
       "      <td>2</td>\n",
       "      <td>62.0</td>\n",
       "      <td>80.0</td>\n",
       "      <td>1.010</td>\n",
       "      <td>2.0</td>\n",
       "      <td>3.0</td>\n",
       "      <td>normal</td>\n",
       "      <td>normal</td>\n",
       "      <td>notpresent</td>\n",
       "      <td>notpresent</td>\n",
       "      <td>...</td>\n",
       "      <td>31</td>\n",
       "      <td>7500</td>\n",
       "      <td>NaN</td>\n",
       "      <td>no</td>\n",
       "      <td>yes</td>\n",
       "      <td>no</td>\n",
       "      <td>poor</td>\n",
       "      <td>no</td>\n",
       "      <td>yes</td>\n",
       "      <td>ckd</td>\n",
       "    </tr>\n",
       "    <tr>\n",
       "      <th>3</th>\n",
       "      <td>3</td>\n",
       "      <td>48.0</td>\n",
       "      <td>70.0</td>\n",
       "      <td>1.005</td>\n",
       "      <td>4.0</td>\n",
       "      <td>0.0</td>\n",
       "      <td>normal</td>\n",
       "      <td>abnormal</td>\n",
       "      <td>present</td>\n",
       "      <td>notpresent</td>\n",
       "      <td>...</td>\n",
       "      <td>32</td>\n",
       "      <td>6700</td>\n",
       "      <td>3.9</td>\n",
       "      <td>yes</td>\n",
       "      <td>no</td>\n",
       "      <td>no</td>\n",
       "      <td>poor</td>\n",
       "      <td>yes</td>\n",
       "      <td>yes</td>\n",
       "      <td>ckd</td>\n",
       "    </tr>\n",
       "    <tr>\n",
       "      <th>4</th>\n",
       "      <td>4</td>\n",
       "      <td>51.0</td>\n",
       "      <td>80.0</td>\n",
       "      <td>1.010</td>\n",
       "      <td>2.0</td>\n",
       "      <td>0.0</td>\n",
       "      <td>normal</td>\n",
       "      <td>normal</td>\n",
       "      <td>notpresent</td>\n",
       "      <td>notpresent</td>\n",
       "      <td>...</td>\n",
       "      <td>35</td>\n",
       "      <td>7300</td>\n",
       "      <td>4.6</td>\n",
       "      <td>no</td>\n",
       "      <td>no</td>\n",
       "      <td>no</td>\n",
       "      <td>good</td>\n",
       "      <td>no</td>\n",
       "      <td>no</td>\n",
       "      <td>ckd</td>\n",
       "    </tr>\n",
       "  </tbody>\n",
       "</table>\n",
       "<p>5 rows × 26 columns</p>\n",
       "</div>"
      ],
      "text/plain": [
       "   id   age    bp     sg   al   su     rbc        pc         pcc          ba  \\\n",
       "0   0  48.0  80.0  1.020  1.0  0.0     NaN    normal  notpresent  notpresent   \n",
       "1   1   7.0  50.0  1.020  4.0  0.0     NaN    normal  notpresent  notpresent   \n",
       "2   2  62.0  80.0  1.010  2.0  3.0  normal    normal  notpresent  notpresent   \n",
       "3   3  48.0  70.0  1.005  4.0  0.0  normal  abnormal     present  notpresent   \n",
       "4   4  51.0  80.0  1.010  2.0  0.0  normal    normal  notpresent  notpresent   \n",
       "\n",
       "   ...  pcv    wc   rc  htn   dm  cad appet   pe  ane classification  \n",
       "0  ...   44  7800  5.2  yes  yes   no  good   no   no            ckd  \n",
       "1  ...   38  6000  NaN   no   no   no  good   no   no            ckd  \n",
       "2  ...   31  7500  NaN   no  yes   no  poor   no  yes            ckd  \n",
       "3  ...   32  6700  3.9  yes   no   no  poor  yes  yes            ckd  \n",
       "4  ...   35  7300  4.6   no   no   no  good   no   no            ckd  \n",
       "\n",
       "[5 rows x 26 columns]"
      ]
     },
     "execution_count": 116,
     "metadata": {},
     "output_type": "execute_result"
    }
   ],
   "source": [
    "df.head()"
   ]
  },
  {
   "cell_type": "code",
   "execution_count": 117,
   "id": "4e4086af",
   "metadata": {},
   "outputs": [
    {
     "name": "stdout",
     "output_type": "stream",
     "text": [
      "<class 'pandas.core.frame.DataFrame'>\n",
      "RangeIndex: 400 entries, 0 to 399\n",
      "Data columns (total 26 columns):\n",
      " #   Column          Non-Null Count  Dtype  \n",
      "---  ------          --------------  -----  \n",
      " 0   id              400 non-null    int64  \n",
      " 1   age             391 non-null    float64\n",
      " 2   bp              388 non-null    float64\n",
      " 3   sg              353 non-null    float64\n",
      " 4   al              354 non-null    float64\n",
      " 5   su              351 non-null    float64\n",
      " 6   rbc             248 non-null    object \n",
      " 7   pc              335 non-null    object \n",
      " 8   pcc             396 non-null    object \n",
      " 9   ba              396 non-null    object \n",
      " 10  bgr             356 non-null    float64\n",
      " 11  bu              381 non-null    float64\n",
      " 12  sc              383 non-null    float64\n",
      " 13  sod             313 non-null    float64\n",
      " 14  pot             312 non-null    float64\n",
      " 15  hemo            348 non-null    float64\n",
      " 16  pcv             330 non-null    object \n",
      " 17  wc              295 non-null    object \n",
      " 18  rc              270 non-null    object \n",
      " 19  htn             398 non-null    object \n",
      " 20  dm              398 non-null    object \n",
      " 21  cad             398 non-null    object \n",
      " 22  appet           399 non-null    object \n",
      " 23  pe              399 non-null    object \n",
      " 24  ane             399 non-null    object \n",
      " 25  classification  400 non-null    object \n",
      "dtypes: float64(11), int64(1), object(14)\n",
      "memory usage: 81.4+ KB\n"
     ]
    }
   ],
   "source": [
    "df.info()"
   ]
  },
  {
   "cell_type": "code",
   "execution_count": 118,
   "id": "6a7053c4",
   "metadata": {},
   "outputs": [
    {
     "data": {
      "text/plain": [
       "ckd       248\n",
       "notckd    150\n",
       "ckd\\t       2\n",
       "Name: classification, dtype: int64"
      ]
     },
     "execution_count": 118,
     "metadata": {},
     "output_type": "execute_result"
    }
   ],
   "source": [
    "df['classification'].value_counts()"
   ]
  },
  {
   "cell_type": "code",
   "execution_count": 119,
   "id": "f9f1dead",
   "metadata": {},
   "outputs": [],
   "source": [
    "#out = df[df['classification']=='ckd\\t'].index\n",
    "#df.drop(out,axis=0,inplace=True)"
   ]
  },
  {
   "cell_type": "code",
   "execution_count": 120,
   "id": "51172ac9",
   "metadata": {},
   "outputs": [],
   "source": [
    "df.drop(\"id\",axis=1,inplace=True)"
   ]
  },
  {
   "cell_type": "code",
   "execution_count": 121,
   "id": "c6e8111b",
   "metadata": {},
   "outputs": [
    {
     "name": "stderr",
     "output_type": "stream",
     "text": [
      "C:\\Users\\HP\\AppData\\Local\\Temp\\ipykernel_22084\\1665899112.py:1: FutureWarning: Dropping of nuisance columns in DataFrame reductions (with 'numeric_only=None') is deprecated; in a future version this will raise TypeError.  Select only valid columns before calling the reduction.\n",
      "  df.skew()\n"
     ]
    },
    {
     "data": {
      "text/plain": [
       "age     -0.668259\n",
       "bp       1.605429\n",
       "sg      -0.172444\n",
       "al       0.998157\n",
       "su       2.464262\n",
       "bgr      2.010773\n",
       "bu       2.634374\n",
       "sc       7.509538\n",
       "sod     -6.996569\n",
       "pot     11.582956\n",
       "hemo    -0.335095\n",
       "dtype: float64"
      ]
     },
     "execution_count": 121,
     "metadata": {},
     "output_type": "execute_result"
    }
   ],
   "source": [
    "df.skew()"
   ]
  },
  {
   "cell_type": "code",
   "execution_count": 122,
   "id": "976d328f",
   "metadata": {},
   "outputs": [
    {
     "data": {
      "text/plain": [
       "Index(['age', 'bp', 'sg', 'al', 'su', 'rbc', 'pc', 'pcc', 'ba', 'bgr', 'bu',\n",
       "       'sc', 'sod', 'pot', 'hemo', 'pcv', 'wc', 'rc', 'htn', 'dm', 'cad',\n",
       "       'appet', 'pe', 'ane', 'classification'],\n",
       "      dtype='object')"
      ]
     },
     "execution_count": 122,
     "metadata": {},
     "output_type": "execute_result"
    }
   ],
   "source": [
    "df.columns"
   ]
  },
  {
   "cell_type": "code",
   "execution_count": 123,
   "id": "6f0e72e9",
   "metadata": {},
   "outputs": [
    {
     "data": {
      "text/plain": [
       "ckd       248\n",
       "notckd    150\n",
       "ckd\\t       2\n",
       "Name: classification, dtype: int64"
      ]
     },
     "execution_count": 123,
     "metadata": {},
     "output_type": "execute_result"
    }
   ],
   "source": [
    "df['classification'].value_counts()"
   ]
  },
  {
   "cell_type": "code",
   "execution_count": 124,
   "id": "6dfde39d",
   "metadata": {},
   "outputs": [],
   "source": [
    "#consider by 0.5\n",
    "mean1 = ['sg','hemo']\n",
    "median1 = ['age','bp','al','su','bgr','bu','sc','sod','pot']"
   ]
  },
  {
   "cell_type": "code",
   "execution_count": 125,
   "id": "dd032742",
   "metadata": {},
   "outputs": [],
   "source": [
    "for m in mean1:\n",
    "    df[m].fillna(df[m].mean(),inplace=True)"
   ]
  },
  {
   "cell_type": "code",
   "execution_count": 126,
   "id": "02ba85dd",
   "metadata": {},
   "outputs": [],
   "source": [
    "for m in median1:\n",
    "    df[m].fillna(df[m].median(),inplace=True)"
   ]
  },
  {
   "cell_type": "code",
   "execution_count": 127,
   "id": "03eb402f",
   "metadata": {},
   "outputs": [],
   "source": [
    "trans = ['pcv','wc','rc']\n",
    "for tr in trans:\n",
    "    df[tr] = pd.to_numeric(df[tr],errors='coerce')"
   ]
  },
  {
   "cell_type": "code",
   "execution_count": 128,
   "id": "7bfd0b15",
   "metadata": {},
   "outputs": [
    {
     "data": {
      "text/plain": [
       "pcv   -0.433679\n",
       "wc     1.621589\n",
       "rc    -0.183329\n",
       "dtype: float64"
      ]
     },
     "execution_count": 128,
     "metadata": {},
     "output_type": "execute_result"
    }
   ],
   "source": [
    "df[trans].skew()"
   ]
  },
  {
   "cell_type": "code",
   "execution_count": 129,
   "id": "c7d4a48c",
   "metadata": {},
   "outputs": [],
   "source": [
    "df['pcv'].fillna(df['pcv'].mean(),inplace=True)\n",
    "df['wc'].fillna(df['wc'].median(),inplace=True)\n",
    "df['rc'].fillna(df['rc'].mean(),inplace=True)"
   ]
  },
  {
   "cell_type": "code",
   "execution_count": 130,
   "id": "dd6f6dc9",
   "metadata": {},
   "outputs": [],
   "source": [
    "cols = ['rbc','pc','pcc','ba','htn','dm','cad','appet','pe','ane']\n",
    "from sklearn.preprocessing import LabelEncoder\n",
    "le = LabelEncoder()\n",
    "for col in cols:\n",
    "    df[col] = le.fit_transform(df[col])"
   ]
  },
  {
   "cell_type": "code",
   "execution_count": 131,
   "id": "b2def5d9",
   "metadata": {},
   "outputs": [
    {
     "name": "stderr",
     "output_type": "stream",
     "text": [
      "C:\\Users\\HP\\AppData\\Local\\Temp\\ipykernel_22084\\1884342562.py:1: SettingWithCopyWarning: \n",
      "A value is trying to be set on a copy of a slice from a DataFrame\n",
      "\n",
      "See the caveats in the documentation: https://pandas.pydata.org/pandas-docs/stable/user_guide/indexing.html#returning-a-view-versus-a-copy\n",
      "  df[cols].fillna(df[cols].mode(),inplace=True)\n"
     ]
    }
   ],
   "source": [
    "df[cols].fillna(df[cols].mode(),inplace=True)"
   ]
  },
  {
   "cell_type": "code",
   "execution_count": 132,
   "id": "caabbba6",
   "metadata": {},
   "outputs": [
    {
     "data": {
      "text/plain": [
       "age               0\n",
       "bp                0\n",
       "sg                0\n",
       "al                0\n",
       "su                0\n",
       "rbc               0\n",
       "pc                0\n",
       "pcc               0\n",
       "ba                0\n",
       "bgr               0\n",
       "bu                0\n",
       "sc                0\n",
       "sod               0\n",
       "pot               0\n",
       "hemo              0\n",
       "pcv               0\n",
       "wc                0\n",
       "rc                0\n",
       "htn               0\n",
       "dm                0\n",
       "cad               0\n",
       "appet             0\n",
       "pe                0\n",
       "ane               0\n",
       "classification    0\n",
       "dtype: int64"
      ]
     },
     "execution_count": 132,
     "metadata": {},
     "output_type": "execute_result"
    }
   ],
   "source": [
    "df.isna().sum()"
   ]
  },
  {
   "cell_type": "code",
   "execution_count": 133,
   "id": "32448462",
   "metadata": {},
   "outputs": [],
   "source": [
    "df['classification'] = le.fit_transform(df['classification'])"
   ]
  },
  {
   "cell_type": "code",
   "execution_count": 134,
   "id": "81fe7c14",
   "metadata": {},
   "outputs": [
    {
     "name": "stdout",
     "output_type": "stream",
     "text": [
      "<class 'pandas.core.frame.DataFrame'>\n",
      "RangeIndex: 400 entries, 0 to 399\n",
      "Data columns (total 25 columns):\n",
      " #   Column          Non-Null Count  Dtype  \n",
      "---  ------          --------------  -----  \n",
      " 0   age             400 non-null    float64\n",
      " 1   bp              400 non-null    float64\n",
      " 2   sg              400 non-null    float64\n",
      " 3   al              400 non-null    float64\n",
      " 4   su              400 non-null    float64\n",
      " 5   rbc             400 non-null    int32  \n",
      " 6   pc              400 non-null    int32  \n",
      " 7   pcc             400 non-null    int32  \n",
      " 8   ba              400 non-null    int32  \n",
      " 9   bgr             400 non-null    float64\n",
      " 10  bu              400 non-null    float64\n",
      " 11  sc              400 non-null    float64\n",
      " 12  sod             400 non-null    float64\n",
      " 13  pot             400 non-null    float64\n",
      " 14  hemo            400 non-null    float64\n",
      " 15  pcv             400 non-null    float64\n",
      " 16  wc              400 non-null    float64\n",
      " 17  rc              400 non-null    float64\n",
      " 18  htn             400 non-null    int32  \n",
      " 19  dm              400 non-null    int32  \n",
      " 20  cad             400 non-null    int32  \n",
      " 21  appet           400 non-null    int32  \n",
      " 22  pe              400 non-null    int32  \n",
      " 23  ane             400 non-null    int32  \n",
      " 24  classification  400 non-null    int32  \n",
      "dtypes: float64(14), int32(11)\n",
      "memory usage: 61.1 KB\n"
     ]
    }
   ],
   "source": [
    "df.info()"
   ]
  },
  {
   "cell_type": "code",
   "execution_count": 135,
   "id": "44ca2f01",
   "metadata": {},
   "outputs": [],
   "source": [
    "df[['age','bp','al','su','bgr','bu','sod','pcv','wc']] =df[['age','bp','al','su','bgr','bu','sod','pcv','wc']].astype(int)"
   ]
  },
  {
   "cell_type": "code",
   "execution_count": 136,
   "id": "93615f45",
   "metadata": {},
   "outputs": [
    {
     "data": {
      "text/html": [
       "<div>\n",
       "<style scoped>\n",
       "    .dataframe tbody tr th:only-of-type {\n",
       "        vertical-align: middle;\n",
       "    }\n",
       "\n",
       "    .dataframe tbody tr th {\n",
       "        vertical-align: top;\n",
       "    }\n",
       "\n",
       "    .dataframe thead th {\n",
       "        text-align: right;\n",
       "    }\n",
       "</style>\n",
       "<table border=\"1\" class=\"dataframe\">\n",
       "  <thead>\n",
       "    <tr style=\"text-align: right;\">\n",
       "      <th></th>\n",
       "      <th>age</th>\n",
       "      <th>bp</th>\n",
       "      <th>sg</th>\n",
       "      <th>al</th>\n",
       "      <th>su</th>\n",
       "      <th>rbc</th>\n",
       "      <th>pc</th>\n",
       "      <th>pcc</th>\n",
       "      <th>ba</th>\n",
       "      <th>bgr</th>\n",
       "      <th>...</th>\n",
       "      <th>pcv</th>\n",
       "      <th>wc</th>\n",
       "      <th>rc</th>\n",
       "      <th>htn</th>\n",
       "      <th>dm</th>\n",
       "      <th>cad</th>\n",
       "      <th>appet</th>\n",
       "      <th>pe</th>\n",
       "      <th>ane</th>\n",
       "      <th>classification</th>\n",
       "    </tr>\n",
       "  </thead>\n",
       "  <tbody>\n",
       "    <tr>\n",
       "      <th>0</th>\n",
       "      <td>48</td>\n",
       "      <td>80</td>\n",
       "      <td>1.020</td>\n",
       "      <td>1</td>\n",
       "      <td>0</td>\n",
       "      <td>2</td>\n",
       "      <td>1</td>\n",
       "      <td>0</td>\n",
       "      <td>0</td>\n",
       "      <td>121</td>\n",
       "      <td>...</td>\n",
       "      <td>44</td>\n",
       "      <td>7800</td>\n",
       "      <td>5.200000</td>\n",
       "      <td>1</td>\n",
       "      <td>4</td>\n",
       "      <td>1</td>\n",
       "      <td>0</td>\n",
       "      <td>0</td>\n",
       "      <td>0</td>\n",
       "      <td>0</td>\n",
       "    </tr>\n",
       "    <tr>\n",
       "      <th>1</th>\n",
       "      <td>7</td>\n",
       "      <td>50</td>\n",
       "      <td>1.020</td>\n",
       "      <td>4</td>\n",
       "      <td>0</td>\n",
       "      <td>2</td>\n",
       "      <td>1</td>\n",
       "      <td>0</td>\n",
       "      <td>0</td>\n",
       "      <td>121</td>\n",
       "      <td>...</td>\n",
       "      <td>38</td>\n",
       "      <td>6000</td>\n",
       "      <td>4.707435</td>\n",
       "      <td>0</td>\n",
       "      <td>3</td>\n",
       "      <td>1</td>\n",
       "      <td>0</td>\n",
       "      <td>0</td>\n",
       "      <td>0</td>\n",
       "      <td>0</td>\n",
       "    </tr>\n",
       "    <tr>\n",
       "      <th>2</th>\n",
       "      <td>62</td>\n",
       "      <td>80</td>\n",
       "      <td>1.010</td>\n",
       "      <td>2</td>\n",
       "      <td>3</td>\n",
       "      <td>1</td>\n",
       "      <td>1</td>\n",
       "      <td>0</td>\n",
       "      <td>0</td>\n",
       "      <td>423</td>\n",
       "      <td>...</td>\n",
       "      <td>31</td>\n",
       "      <td>7500</td>\n",
       "      <td>4.707435</td>\n",
       "      <td>0</td>\n",
       "      <td>4</td>\n",
       "      <td>1</td>\n",
       "      <td>1</td>\n",
       "      <td>0</td>\n",
       "      <td>1</td>\n",
       "      <td>0</td>\n",
       "    </tr>\n",
       "    <tr>\n",
       "      <th>3</th>\n",
       "      <td>48</td>\n",
       "      <td>70</td>\n",
       "      <td>1.005</td>\n",
       "      <td>4</td>\n",
       "      <td>0</td>\n",
       "      <td>1</td>\n",
       "      <td>0</td>\n",
       "      <td>1</td>\n",
       "      <td>0</td>\n",
       "      <td>117</td>\n",
       "      <td>...</td>\n",
       "      <td>32</td>\n",
       "      <td>6700</td>\n",
       "      <td>3.900000</td>\n",
       "      <td>1</td>\n",
       "      <td>3</td>\n",
       "      <td>1</td>\n",
       "      <td>1</td>\n",
       "      <td>1</td>\n",
       "      <td>1</td>\n",
       "      <td>0</td>\n",
       "    </tr>\n",
       "    <tr>\n",
       "      <th>4</th>\n",
       "      <td>51</td>\n",
       "      <td>80</td>\n",
       "      <td>1.010</td>\n",
       "      <td>2</td>\n",
       "      <td>0</td>\n",
       "      <td>1</td>\n",
       "      <td>1</td>\n",
       "      <td>0</td>\n",
       "      <td>0</td>\n",
       "      <td>106</td>\n",
       "      <td>...</td>\n",
       "      <td>35</td>\n",
       "      <td>7300</td>\n",
       "      <td>4.600000</td>\n",
       "      <td>0</td>\n",
       "      <td>3</td>\n",
       "      <td>1</td>\n",
       "      <td>0</td>\n",
       "      <td>0</td>\n",
       "      <td>0</td>\n",
       "      <td>0</td>\n",
       "    </tr>\n",
       "  </tbody>\n",
       "</table>\n",
       "<p>5 rows × 25 columns</p>\n",
       "</div>"
      ],
      "text/plain": [
       "   age  bp     sg  al  su  rbc  pc  pcc  ba  bgr  ...  pcv    wc        rc  \\\n",
       "0   48  80  1.020   1   0    2   1    0   0  121  ...   44  7800  5.200000   \n",
       "1    7  50  1.020   4   0    2   1    0   0  121  ...   38  6000  4.707435   \n",
       "2   62  80  1.010   2   3    1   1    0   0  423  ...   31  7500  4.707435   \n",
       "3   48  70  1.005   4   0    1   0    1   0  117  ...   32  6700  3.900000   \n",
       "4   51  80  1.010   2   0    1   1    0   0  106  ...   35  7300  4.600000   \n",
       "\n",
       "   htn  dm  cad  appet  pe  ane  classification  \n",
       "0    1   4    1      0   0    0               0  \n",
       "1    0   3    1      0   0    0               0  \n",
       "2    0   4    1      1   0    1               0  \n",
       "3    1   3    1      1   1    1               0  \n",
       "4    0   3    1      0   0    0               0  \n",
       "\n",
       "[5 rows x 25 columns]"
      ]
     },
     "execution_count": 136,
     "metadata": {},
     "output_type": "execute_result"
    }
   ],
   "source": [
    "df.head()"
   ]
  },
  {
   "cell_type": "code",
   "execution_count": 137,
   "id": "54d056e8",
   "metadata": {},
   "outputs": [
    {
     "data": {
      "text/plain": [
       "0    248\n",
       "2    150\n",
       "1      2\n",
       "Name: classification, dtype: int64"
      ]
     },
     "execution_count": 137,
     "metadata": {},
     "output_type": "execute_result"
    }
   ],
   "source": [
    "df['classification'].value_counts()"
   ]
  },
  {
   "cell_type": "code",
   "execution_count": 138,
   "id": "1f8186aa",
   "metadata": {},
   "outputs": [],
   "source": [
    "# Get the index labels of rows that meet the condition\n",
    "#rows_to_drop = df[df['classification'] == 1].index\n",
    "\n",
    "# Use the drop method to remove rows by their index labels\n",
    "#df = df.drop(rows_to_drop)"
   ]
  },
  {
   "cell_type": "code",
   "execution_count": 139,
   "id": "06a117fe",
   "metadata": {},
   "outputs": [
    {
     "name": "stdout",
     "output_type": "stream",
     "text": [
      "<class 'pandas.core.frame.DataFrame'>\n",
      "RangeIndex: 400 entries, 0 to 399\n",
      "Data columns (total 25 columns):\n",
      " #   Column          Non-Null Count  Dtype  \n",
      "---  ------          --------------  -----  \n",
      " 0   age             400 non-null    int32  \n",
      " 1   bp              400 non-null    int32  \n",
      " 2   sg              400 non-null    float64\n",
      " 3   al              400 non-null    int32  \n",
      " 4   su              400 non-null    int32  \n",
      " 5   rbc             400 non-null    int32  \n",
      " 6   pc              400 non-null    int32  \n",
      " 7   pcc             400 non-null    int32  \n",
      " 8   ba              400 non-null    int32  \n",
      " 9   bgr             400 non-null    int32  \n",
      " 10  bu              400 non-null    int32  \n",
      " 11  sc              400 non-null    float64\n",
      " 12  sod             400 non-null    int32  \n",
      " 13  pot             400 non-null    float64\n",
      " 14  hemo            400 non-null    float64\n",
      " 15  pcv             400 non-null    int32  \n",
      " 16  wc              400 non-null    int32  \n",
      " 17  rc              400 non-null    float64\n",
      " 18  htn             400 non-null    int32  \n",
      " 19  dm              400 non-null    int32  \n",
      " 20  cad             400 non-null    int32  \n",
      " 21  appet           400 non-null    int32  \n",
      " 22  pe              400 non-null    int32  \n",
      " 23  ane             400 non-null    int32  \n",
      " 24  classification  400 non-null    int32  \n",
      "dtypes: float64(5), int32(20)\n",
      "memory usage: 47.0 KB\n"
     ]
    }
   ],
   "source": [
    "df.info()"
   ]
  },
  {
   "cell_type": "code",
   "execution_count": 140,
   "id": "09ed8ec4",
   "metadata": {},
   "outputs": [],
   "source": [
    "# Round the float values to two decimal places\n",
    "df[['sg','sc','pot','hemo','rc']] = df[['sg','sc','pot','hemo','rc']].round(2)"
   ]
  },
  {
   "cell_type": "code",
   "execution_count": 141,
   "id": "c457bfcb",
   "metadata": {},
   "outputs": [],
   "source": [
    "from sklearn.preprocessing import MinMaxScaler\n",
    "scaler = MinMaxScaler()\n",
    "scaler.fit(df)\n",
    "df = scaler.transform(df)"
   ]
  },
  {
   "cell_type": "code",
   "execution_count": 142,
   "id": "729567d4",
   "metadata": {},
   "outputs": [],
   "source": [
    "data.drop(\"id\",axis=1,inplace=True)"
   ]
  },
  {
   "cell_type": "code",
   "execution_count": 143,
   "id": "d9fb46a8",
   "metadata": {},
   "outputs": [],
   "source": [
    "df = pd.DataFrame(df,columns=data.columns)"
   ]
  },
  {
   "cell_type": "code",
   "execution_count": 144,
   "id": "b578dc78",
   "metadata": {},
   "outputs": [],
   "source": [
    "from sklearn.model_selection import train_test_split\n",
    "X = df.drop(['classification'],axis=1)\n",
    "Y = df['classification']\n",
    "X_train,X_test,y_train,y_test = train_test_split(X,Y,test_size=0.2)"
   ]
  },
  {
   "cell_type": "code",
   "execution_count": 145,
   "id": "36325822",
   "metadata": {},
   "outputs": [
    {
     "data": {
      "text/plain": [
       "(320, 24)"
      ]
     },
     "execution_count": 145,
     "metadata": {},
     "output_type": "execute_result"
    }
   ],
   "source": [
    "X_train.shape"
   ]
  },
  {
   "cell_type": "code",
   "execution_count": 146,
   "id": "b01b0c61",
   "metadata": {},
   "outputs": [
    {
     "data": {
      "text/html": [
       "<div>\n",
       "<style scoped>\n",
       "    .dataframe tbody tr th:only-of-type {\n",
       "        vertical-align: middle;\n",
       "    }\n",
       "\n",
       "    .dataframe tbody tr th {\n",
       "        vertical-align: top;\n",
       "    }\n",
       "\n",
       "    .dataframe thead th {\n",
       "        text-align: right;\n",
       "    }\n",
       "</style>\n",
       "<table border=\"1\" class=\"dataframe\">\n",
       "  <thead>\n",
       "    <tr style=\"text-align: right;\">\n",
       "      <th></th>\n",
       "      <th>age</th>\n",
       "      <th>bp</th>\n",
       "      <th>sg</th>\n",
       "      <th>al</th>\n",
       "      <th>su</th>\n",
       "      <th>rbc</th>\n",
       "      <th>pc</th>\n",
       "      <th>pcc</th>\n",
       "      <th>ba</th>\n",
       "      <th>bgr</th>\n",
       "      <th>...</th>\n",
       "      <th>hemo</th>\n",
       "      <th>pcv</th>\n",
       "      <th>wc</th>\n",
       "      <th>rc</th>\n",
       "      <th>htn</th>\n",
       "      <th>dm</th>\n",
       "      <th>cad</th>\n",
       "      <th>appet</th>\n",
       "      <th>pe</th>\n",
       "      <th>ane</th>\n",
       "    </tr>\n",
       "  </thead>\n",
       "  <tbody>\n",
       "    <tr>\n",
       "      <th>323</th>\n",
       "      <td>0.465909</td>\n",
       "      <td>0.230769</td>\n",
       "      <td>1.0</td>\n",
       "      <td>0.0</td>\n",
       "      <td>0.0</td>\n",
       "      <td>0.5</td>\n",
       "      <td>0.5</td>\n",
       "      <td>0.0</td>\n",
       "      <td>0.0</td>\n",
       "      <td>0.230769</td>\n",
       "      <td>...</td>\n",
       "      <td>0.870748</td>\n",
       "      <td>0.800000</td>\n",
       "      <td>0.231405</td>\n",
       "      <td>0.406780</td>\n",
       "      <td>0.0</td>\n",
       "      <td>0.6</td>\n",
       "      <td>0.333333</td>\n",
       "      <td>0.0</td>\n",
       "      <td>0.0</td>\n",
       "      <td>0.0</td>\n",
       "    </tr>\n",
       "    <tr>\n",
       "      <th>204</th>\n",
       "      <td>0.715909</td>\n",
       "      <td>0.307692</td>\n",
       "      <td>0.5</td>\n",
       "      <td>0.8</td>\n",
       "      <td>0.4</td>\n",
       "      <td>0.5</td>\n",
       "      <td>0.5</td>\n",
       "      <td>0.0</td>\n",
       "      <td>0.0</td>\n",
       "      <td>0.320513</td>\n",
       "      <td>...</td>\n",
       "      <td>0.387755</td>\n",
       "      <td>0.488889</td>\n",
       "      <td>0.239669</td>\n",
       "      <td>0.442373</td>\n",
       "      <td>0.5</td>\n",
       "      <td>0.8</td>\n",
       "      <td>0.333333</td>\n",
       "      <td>0.0</td>\n",
       "      <td>0.5</td>\n",
       "      <td>0.5</td>\n",
       "    </tr>\n",
       "    <tr>\n",
       "      <th>251</th>\n",
       "      <td>0.238636</td>\n",
       "      <td>0.230769</td>\n",
       "      <td>1.0</td>\n",
       "      <td>0.0</td>\n",
       "      <td>0.0</td>\n",
       "      <td>0.5</td>\n",
       "      <td>0.5</td>\n",
       "      <td>0.0</td>\n",
       "      <td>0.0</td>\n",
       "      <td>0.102564</td>\n",
       "      <td>...</td>\n",
       "      <td>0.945578</td>\n",
       "      <td>0.955556</td>\n",
       "      <td>0.314050</td>\n",
       "      <td>0.491525</td>\n",
       "      <td>0.0</td>\n",
       "      <td>0.6</td>\n",
       "      <td>0.333333</td>\n",
       "      <td>0.0</td>\n",
       "      <td>0.0</td>\n",
       "      <td>0.0</td>\n",
       "    </tr>\n",
       "    <tr>\n",
       "      <th>26</th>\n",
       "      <td>0.829545</td>\n",
       "      <td>0.230769</td>\n",
       "      <td>0.5</td>\n",
       "      <td>0.0</td>\n",
       "      <td>0.0</td>\n",
       "      <td>1.0</td>\n",
       "      <td>0.5</td>\n",
       "      <td>0.0</td>\n",
       "      <td>0.0</td>\n",
       "      <td>0.286325</td>\n",
       "      <td>...</td>\n",
       "      <td>0.578231</td>\n",
       "      <td>0.577778</td>\n",
       "      <td>0.334711</td>\n",
       "      <td>0.322034</td>\n",
       "      <td>0.5</td>\n",
       "      <td>0.8</td>\n",
       "      <td>0.333333</td>\n",
       "      <td>0.5</td>\n",
       "      <td>0.0</td>\n",
       "      <td>0.0</td>\n",
       "    </tr>\n",
       "    <tr>\n",
       "      <th>319</th>\n",
       "      <td>0.318182</td>\n",
       "      <td>0.076923</td>\n",
       "      <td>1.0</td>\n",
       "      <td>0.0</td>\n",
       "      <td>0.0</td>\n",
       "      <td>0.5</td>\n",
       "      <td>0.5</td>\n",
       "      <td>0.0</td>\n",
       "      <td>0.0</td>\n",
       "      <td>0.247863</td>\n",
       "      <td>...</td>\n",
       "      <td>0.641497</td>\n",
       "      <td>0.644444</td>\n",
       "      <td>0.239669</td>\n",
       "      <td>0.442373</td>\n",
       "      <td>0.0</td>\n",
       "      <td>0.6</td>\n",
       "      <td>0.333333</td>\n",
       "      <td>0.0</td>\n",
       "      <td>0.0</td>\n",
       "      <td>0.0</td>\n",
       "    </tr>\n",
       "    <tr>\n",
       "      <th>...</th>\n",
       "      <td>...</td>\n",
       "      <td>...</td>\n",
       "      <td>...</td>\n",
       "      <td>...</td>\n",
       "      <td>...</td>\n",
       "      <td>...</td>\n",
       "      <td>...</td>\n",
       "      <td>...</td>\n",
       "      <td>...</td>\n",
       "      <td>...</td>\n",
       "      <td>...</td>\n",
       "      <td>...</td>\n",
       "      <td>...</td>\n",
       "      <td>...</td>\n",
       "      <td>...</td>\n",
       "      <td>...</td>\n",
       "      <td>...</td>\n",
       "      <td>...</td>\n",
       "      <td>...</td>\n",
       "      <td>...</td>\n",
       "      <td>...</td>\n",
       "    </tr>\n",
       "    <tr>\n",
       "      <th>307</th>\n",
       "      <td>0.511364</td>\n",
       "      <td>0.076923</td>\n",
       "      <td>1.0</td>\n",
       "      <td>0.0</td>\n",
       "      <td>0.0</td>\n",
       "      <td>0.5</td>\n",
       "      <td>0.5</td>\n",
       "      <td>0.0</td>\n",
       "      <td>0.0</td>\n",
       "      <td>0.245726</td>\n",
       "      <td>...</td>\n",
       "      <td>0.714286</td>\n",
       "      <td>0.777778</td>\n",
       "      <td>0.235537</td>\n",
       "      <td>0.406780</td>\n",
       "      <td>0.0</td>\n",
       "      <td>0.6</td>\n",
       "      <td>0.333333</td>\n",
       "      <td>0.0</td>\n",
       "      <td>0.0</td>\n",
       "      <td>0.0</td>\n",
       "    </tr>\n",
       "    <tr>\n",
       "      <th>237</th>\n",
       "      <td>0.886364</td>\n",
       "      <td>0.153846</td>\n",
       "      <td>0.5</td>\n",
       "      <td>0.4</td>\n",
       "      <td>0.4</td>\n",
       "      <td>1.0</td>\n",
       "      <td>0.5</td>\n",
       "      <td>0.0</td>\n",
       "      <td>0.0</td>\n",
       "      <td>0.254274</td>\n",
       "      <td>...</td>\n",
       "      <td>0.653061</td>\n",
       "      <td>0.688889</td>\n",
       "      <td>0.305785</td>\n",
       "      <td>0.442373</td>\n",
       "      <td>0.5</td>\n",
       "      <td>0.8</td>\n",
       "      <td>0.333333</td>\n",
       "      <td>0.5</td>\n",
       "      <td>0.5</td>\n",
       "      <td>0.0</td>\n",
       "    </tr>\n",
       "    <tr>\n",
       "      <th>371</th>\n",
       "      <td>0.295455</td>\n",
       "      <td>0.076923</td>\n",
       "      <td>1.0</td>\n",
       "      <td>0.0</td>\n",
       "      <td>0.0</td>\n",
       "      <td>0.5</td>\n",
       "      <td>0.5</td>\n",
       "      <td>0.0</td>\n",
       "      <td>0.0</td>\n",
       "      <td>0.121795</td>\n",
       "      <td>...</td>\n",
       "      <td>0.986395</td>\n",
       "      <td>0.933333</td>\n",
       "      <td>0.177686</td>\n",
       "      <td>0.491525</td>\n",
       "      <td>0.0</td>\n",
       "      <td>0.6</td>\n",
       "      <td>0.333333</td>\n",
       "      <td>0.0</td>\n",
       "      <td>0.0</td>\n",
       "      <td>0.0</td>\n",
       "    </tr>\n",
       "    <tr>\n",
       "      <th>326</th>\n",
       "      <td>0.511364</td>\n",
       "      <td>0.076923</td>\n",
       "      <td>1.0</td>\n",
       "      <td>0.0</td>\n",
       "      <td>0.0</td>\n",
       "      <td>0.5</td>\n",
       "      <td>0.5</td>\n",
       "      <td>0.0</td>\n",
       "      <td>0.0</td>\n",
       "      <td>0.185897</td>\n",
       "      <td>...</td>\n",
       "      <td>0.863946</td>\n",
       "      <td>0.711111</td>\n",
       "      <td>0.252066</td>\n",
       "      <td>0.525424</td>\n",
       "      <td>0.0</td>\n",
       "      <td>0.6</td>\n",
       "      <td>0.333333</td>\n",
       "      <td>0.0</td>\n",
       "      <td>0.0</td>\n",
       "      <td>0.0</td>\n",
       "    </tr>\n",
       "    <tr>\n",
       "      <th>268</th>\n",
       "      <td>0.602273</td>\n",
       "      <td>0.230769</td>\n",
       "      <td>1.0</td>\n",
       "      <td>0.0</td>\n",
       "      <td>0.0</td>\n",
       "      <td>1.0</td>\n",
       "      <td>1.0</td>\n",
       "      <td>0.0</td>\n",
       "      <td>0.0</td>\n",
       "      <td>0.166667</td>\n",
       "      <td>...</td>\n",
       "      <td>0.897959</td>\n",
       "      <td>0.977778</td>\n",
       "      <td>0.260331</td>\n",
       "      <td>0.474576</td>\n",
       "      <td>0.0</td>\n",
       "      <td>0.6</td>\n",
       "      <td>0.333333</td>\n",
       "      <td>0.0</td>\n",
       "      <td>0.0</td>\n",
       "      <td>0.0</td>\n",
       "    </tr>\n",
       "  </tbody>\n",
       "</table>\n",
       "<p>320 rows × 24 columns</p>\n",
       "</div>"
      ],
      "text/plain": [
       "          age        bp   sg   al   su  rbc   pc  pcc   ba       bgr  ...  \\\n",
       "323  0.465909  0.230769  1.0  0.0  0.0  0.5  0.5  0.0  0.0  0.230769  ...   \n",
       "204  0.715909  0.307692  0.5  0.8  0.4  0.5  0.5  0.0  0.0  0.320513  ...   \n",
       "251  0.238636  0.230769  1.0  0.0  0.0  0.5  0.5  0.0  0.0  0.102564  ...   \n",
       "26   0.829545  0.230769  0.5  0.0  0.0  1.0  0.5  0.0  0.0  0.286325  ...   \n",
       "319  0.318182  0.076923  1.0  0.0  0.0  0.5  0.5  0.0  0.0  0.247863  ...   \n",
       "..        ...       ...  ...  ...  ...  ...  ...  ...  ...       ...  ...   \n",
       "307  0.511364  0.076923  1.0  0.0  0.0  0.5  0.5  0.0  0.0  0.245726  ...   \n",
       "237  0.886364  0.153846  0.5  0.4  0.4  1.0  0.5  0.0  0.0  0.254274  ...   \n",
       "371  0.295455  0.076923  1.0  0.0  0.0  0.5  0.5  0.0  0.0  0.121795  ...   \n",
       "326  0.511364  0.076923  1.0  0.0  0.0  0.5  0.5  0.0  0.0  0.185897  ...   \n",
       "268  0.602273  0.230769  1.0  0.0  0.0  1.0  1.0  0.0  0.0  0.166667  ...   \n",
       "\n",
       "         hemo       pcv        wc        rc  htn   dm       cad  appet   pe  \\\n",
       "323  0.870748  0.800000  0.231405  0.406780  0.0  0.6  0.333333    0.0  0.0   \n",
       "204  0.387755  0.488889  0.239669  0.442373  0.5  0.8  0.333333    0.0  0.5   \n",
       "251  0.945578  0.955556  0.314050  0.491525  0.0  0.6  0.333333    0.0  0.0   \n",
       "26   0.578231  0.577778  0.334711  0.322034  0.5  0.8  0.333333    0.5  0.0   \n",
       "319  0.641497  0.644444  0.239669  0.442373  0.0  0.6  0.333333    0.0  0.0   \n",
       "..        ...       ...       ...       ...  ...  ...       ...    ...  ...   \n",
       "307  0.714286  0.777778  0.235537  0.406780  0.0  0.6  0.333333    0.0  0.0   \n",
       "237  0.653061  0.688889  0.305785  0.442373  0.5  0.8  0.333333    0.5  0.5   \n",
       "371  0.986395  0.933333  0.177686  0.491525  0.0  0.6  0.333333    0.0  0.0   \n",
       "326  0.863946  0.711111  0.252066  0.525424  0.0  0.6  0.333333    0.0  0.0   \n",
       "268  0.897959  0.977778  0.260331  0.474576  0.0  0.6  0.333333    0.0  0.0   \n",
       "\n",
       "     ane  \n",
       "323  0.0  \n",
       "204  0.5  \n",
       "251  0.0  \n",
       "26   0.0  \n",
       "319  0.0  \n",
       "..   ...  \n",
       "307  0.0  \n",
       "237  0.0  \n",
       "371  0.0  \n",
       "326  0.0  \n",
       "268  0.0  \n",
       "\n",
       "[320 rows x 24 columns]"
      ]
     },
     "execution_count": 146,
     "metadata": {},
     "output_type": "execute_result"
    }
   ],
   "source": [
    "X_train"
   ]
  },
  {
   "cell_type": "code",
   "execution_count": 156,
   "id": "18b958f0",
   "metadata": {},
   "outputs": [],
   "source": [
    "#ANN\n",
    "import tensorflow as tf\n",
    "from tensorflow import keras"
   ]
  },
  {
   "cell_type": "code",
   "execution_count": 157,
   "id": "696f3ac2",
   "metadata": {},
   "outputs": [
    {
     "name": "stdout",
     "output_type": "stream",
     "text": [
      "Model: \"sequential_6\"\n",
      "_________________________________________________________________\n",
      " Layer (type)                Output Shape              Param #   \n",
      "=================================================================\n",
      " flatten_6 (Flatten)         (None, 24)                0         \n",
      "                                                                 \n",
      " dense_22 (Dense)            (None, 24)                600       \n",
      "                                                                 \n",
      " dense_23 (Dense)            (None, 12)                300       \n",
      "                                                                 \n",
      " dense_24 (Dense)            (None, 3)                 39        \n",
      "                                                                 \n",
      "=================================================================\n",
      "Total params: 939 (3.67 KB)\n",
      "Trainable params: 939 (3.67 KB)\n",
      "Non-trainable params: 0 (0.00 Byte)\n",
      "_________________________________________________________________\n"
     ]
    }
   ],
   "source": [
    "model = keras.models.Sequential()\n",
    "activation = 'relu'\n",
    "model.add(keras.layers.Flatten(input_shape=[24]))\n",
    "model.add(keras.layers.Dense(24,activation=activation))\n",
    "model.add(keras.layers.Dense(12,activation=activation))\n",
    "model.add(keras.layers.Dense(3,activation=\"softmax\"))\n",
    "\n",
    "model.summary()"
   ]
  },
  {
   "cell_type": "code",
   "execution_count": 158,
   "id": "8e010515",
   "metadata": {},
   "outputs": [],
   "source": [
    "model.compile(optimizer='adam', loss='sparse_categorical_crossentropy', metrics=['accuracy'])"
   ]
  },
  {
   "cell_type": "code",
   "execution_count": 159,
   "id": "a71b1fb4",
   "metadata": {},
   "outputs": [
    {
     "name": "stdout",
     "output_type": "stream",
     "text": [
      "Epoch 1/300\n",
      "10/10 [==============================] - 1s 41ms/step - loss: 1.1430 - accuracy: 0.2313 - val_loss: 1.0892 - val_accuracy: 0.4500\n",
      "Epoch 2/300\n",
      "10/10 [==============================] - 0s 13ms/step - loss: 1.0280 - accuracy: 0.5969 - val_loss: 0.9904 - val_accuracy: 0.5625\n",
      "Epoch 3/300\n",
      "10/10 [==============================] - 0s 14ms/step - loss: 0.9318 - accuracy: 0.6313 - val_loss: 0.9029 - val_accuracy: 0.5750\n",
      "Epoch 4/300\n",
      "10/10 [==============================] - 0s 10ms/step - loss: 0.8479 - accuracy: 0.6281 - val_loss: 0.8267 - val_accuracy: 0.5875\n",
      "Epoch 5/300\n",
      "10/10 [==============================] - 0s 13ms/step - loss: 0.7763 - accuracy: 0.6281 - val_loss: 0.7629 - val_accuracy: 0.5875\n",
      "Epoch 6/300\n",
      "10/10 [==============================] - 0s 12ms/step - loss: 0.7168 - accuracy: 0.6281 - val_loss: 0.7099 - val_accuracy: 0.5875\n",
      "Epoch 7/300\n",
      "10/10 [==============================] - 0s 14ms/step - loss: 0.6660 - accuracy: 0.6281 - val_loss: 0.6636 - val_accuracy: 0.5875\n",
      "Epoch 8/300\n",
      "10/10 [==============================] - 0s 13ms/step - loss: 0.6206 - accuracy: 0.6281 - val_loss: 0.6194 - val_accuracy: 0.5875\n",
      "Epoch 9/300\n",
      "10/10 [==============================] - 0s 10ms/step - loss: 0.5787 - accuracy: 0.6281 - val_loss: 0.5797 - val_accuracy: 0.6000\n",
      "Epoch 10/300\n",
      "10/10 [==============================] - 0s 11ms/step - loss: 0.5387 - accuracy: 0.7125 - val_loss: 0.5357 - val_accuracy: 0.7750\n",
      "Epoch 11/300\n",
      "10/10 [==============================] - 0s 11ms/step - loss: 0.4977 - accuracy: 0.8438 - val_loss: 0.4935 - val_accuracy: 0.9125\n",
      "Epoch 12/300\n",
      "10/10 [==============================] - 0s 17ms/step - loss: 0.4567 - accuracy: 0.9344 - val_loss: 0.4521 - val_accuracy: 0.9625\n",
      "Epoch 13/300\n",
      "10/10 [==============================] - 0s 18ms/step - loss: 0.4161 - accuracy: 0.9469 - val_loss: 0.4136 - val_accuracy: 0.9750\n",
      "Epoch 14/300\n",
      "10/10 [==============================] - 0s 14ms/step - loss: 0.3770 - accuracy: 0.9563 - val_loss: 0.3741 - val_accuracy: 0.9750\n",
      "Epoch 15/300\n",
      "10/10 [==============================] - 0s 14ms/step - loss: 0.3390 - accuracy: 0.9500 - val_loss: 0.3359 - val_accuracy: 0.9875\n",
      "Epoch 16/300\n",
      "10/10 [==============================] - 0s 12ms/step - loss: 0.3050 - accuracy: 0.9469 - val_loss: 0.3033 - val_accuracy: 0.9875\n",
      "Epoch 17/300\n",
      "10/10 [==============================] - 0s 11ms/step - loss: 0.2745 - accuracy: 0.9469 - val_loss: 0.2798 - val_accuracy: 0.9875\n",
      "Epoch 18/300\n",
      "10/10 [==============================] - 0s 11ms/step - loss: 0.2477 - accuracy: 0.9625 - val_loss: 0.2548 - val_accuracy: 0.9875\n",
      "Epoch 19/300\n",
      "10/10 [==============================] - 0s 11ms/step - loss: 0.2234 - accuracy: 0.9594 - val_loss: 0.2386 - val_accuracy: 0.9875\n",
      "Epoch 20/300\n",
      "10/10 [==============================] - 0s 9ms/step - loss: 0.2036 - accuracy: 0.9594 - val_loss: 0.2215 - val_accuracy: 0.9875\n",
      "Epoch 21/300\n",
      "10/10 [==============================] - 0s 10ms/step - loss: 0.1860 - accuracy: 0.9625 - val_loss: 0.2074 - val_accuracy: 0.9875\n",
      "Epoch 22/300\n",
      "10/10 [==============================] - 0s 11ms/step - loss: 0.1717 - accuracy: 0.9625 - val_loss: 0.1958 - val_accuracy: 0.9875\n",
      "Epoch 23/300\n",
      "10/10 [==============================] - 0s 12ms/step - loss: 0.1594 - accuracy: 0.9625 - val_loss: 0.1912 - val_accuracy: 0.9875\n",
      "Epoch 24/300\n",
      "10/10 [==============================] - 0s 12ms/step - loss: 0.1471 - accuracy: 0.9656 - val_loss: 0.1826 - val_accuracy: 0.9875\n",
      "Epoch 25/300\n",
      "10/10 [==============================] - 0s 12ms/step - loss: 0.1386 - accuracy: 0.9656 - val_loss: 0.1733 - val_accuracy: 0.9875\n",
      "Epoch 26/300\n",
      "10/10 [==============================] - 0s 12ms/step - loss: 0.1277 - accuracy: 0.9688 - val_loss: 0.1760 - val_accuracy: 0.9875\n",
      "Epoch 27/300\n",
      "10/10 [==============================] - 0s 12ms/step - loss: 0.1201 - accuracy: 0.9719 - val_loss: 0.1669 - val_accuracy: 0.9875\n",
      "Epoch 28/300\n",
      "10/10 [==============================] - 0s 9ms/step - loss: 0.1124 - accuracy: 0.9688 - val_loss: 0.1615 - val_accuracy: 0.9875\n",
      "Epoch 29/300\n",
      "10/10 [==============================] - 0s 10ms/step - loss: 0.1062 - accuracy: 0.9688 - val_loss: 0.1594 - val_accuracy: 0.9875\n",
      "Epoch 30/300\n",
      "10/10 [==============================] - 0s 11ms/step - loss: 0.0996 - accuracy: 0.9750 - val_loss: 0.1601 - val_accuracy: 0.9875\n",
      "Epoch 31/300\n",
      "10/10 [==============================] - 0s 10ms/step - loss: 0.0946 - accuracy: 0.9750 - val_loss: 0.1579 - val_accuracy: 0.9875\n",
      "Epoch 32/300\n",
      "10/10 [==============================] - 0s 9ms/step - loss: 0.0898 - accuracy: 0.9750 - val_loss: 0.1527 - val_accuracy: 0.9875\n",
      "Epoch 33/300\n",
      "10/10 [==============================] - 0s 11ms/step - loss: 0.0852 - accuracy: 0.9750 - val_loss: 0.1539 - val_accuracy: 0.9875\n",
      "Epoch 34/300\n",
      "10/10 [==============================] - 0s 11ms/step - loss: 0.0808 - accuracy: 0.9750 - val_loss: 0.1544 - val_accuracy: 0.9875\n",
      "Epoch 35/300\n",
      "10/10 [==============================] - 0s 11ms/step - loss: 0.0779 - accuracy: 0.9750 - val_loss: 0.1504 - val_accuracy: 0.9875\n",
      "Epoch 36/300\n",
      "10/10 [==============================] - 0s 12ms/step - loss: 0.0736 - accuracy: 0.9750 - val_loss: 0.1548 - val_accuracy: 0.9875\n",
      "Epoch 37/300\n",
      "10/10 [==============================] - 0s 10ms/step - loss: 0.0703 - accuracy: 0.9750 - val_loss: 0.1534 - val_accuracy: 0.9875\n",
      "Epoch 38/300\n",
      "10/10 [==============================] - 0s 10ms/step - loss: 0.0670 - accuracy: 0.9781 - val_loss: 0.1523 - val_accuracy: 0.9875\n",
      "Epoch 38: early stopping\n"
     ]
    }
   ],
   "source": [
    "from tensorflow.keras.callbacks import EarlyStopping\n",
    "early_stopping = EarlyStopping(monitor='val_loss', patience=3, verbose=1)\n",
    "\n",
    "history = model.fit(X_train,y_train,validation_data = (X_test,y_test),epochs = 300,callbacks=early_stopping)"
   ]
  },
  {
   "cell_type": "code",
   "execution_count": 160,
   "id": "884e23b0",
   "metadata": {
    "scrolled": true
   },
   "outputs": [
    {
     "name": "stdout",
     "output_type": "stream",
     "text": [
      "3/3 [==============================] - 0s 5ms/step\n",
      "accuracy : 0.9875\n",
      "precision : 0.9895833333333333\n",
      "recall : 0.9848484848484849\n"
     ]
    },
    {
     "data": {
      "image/png": "[encoded data removed]",
      "text/plain": [
       "<Figure size 640x480 with 1 Axes>"
      ]
     },
     "metadata": {},
     "output_type": "display_data"
    }
   ],
   "source": [
    "plt.plot(history.history[\"accuracy\"],c='b')\n",
    "plt.plot(history.history[\"val_accuracy\"],c='r')\n",
    "plt.grid()\n",
    "plt.legend([\"Training Acc\",\"Validation Acc\"])\n",
    "\n",
    "import sklearn.metrics as metrics\n",
    "import numpy as np\n",
    "y_pred = model.predict(X_test)\n",
    "#print(y_pred)\n",
    "#y_pred = [1 if i > 0.5 else 0 for i in y_pred]\n",
    "y_pred = np.argmax(y_pred, axis=1)\n",
    "#print(y_pred)\n",
    "\n",
    "acc = metrics.accuracy_score(y_test,y_pred)\n",
    "precision = metrics.precision_score(y_test,y_pred,average='macro')\n",
    "recall = metrics.recall_score(y_test,y_pred,average='macro')\n",
    "\n",
    "print(f'accuracy : {acc}')\n",
    "print(f'precision : {precision}')\n",
    "print(f'recall : {recall}')"
   ]
  },
  {
   "cell_type": "code",
   "execution_count": 161,
   "id": "debfc4b9",
   "metadata": {},
   "outputs": [
    {
     "data": {
      "text/plain": [
       "<matplotlib.legend.Legend at 0x18f0b52f0a0>"
      ]
     },
     "execution_count": 161,
     "metadata": {},
     "output_type": "execute_result"
    },
    {
     "data": {
      "image/png": "[encoded data removed]",
      "text/plain": [
       "<Figure size 640x480 with 1 Axes>"
      ]
     },
     "metadata": {},
     "output_type": "display_data"
    }
   ],
   "source": [
    "plt.plot(history.history['loss'],c = \"b\")\n",
    "plt.plot(history.history[\"val_loss\"],c =\"r\")\n",
    "plt.grid()\n",
    "plt.legend([\"Training Loss\",\"Validatoin Loss\"])"
   ]
  },
  {
   "cell_type": "code",
   "execution_count": null,
   "id": "ab484b28",
   "metadata": {},
   "outputs": [],
   "source": []
  }
 ],
 "metadata": {
  "kernelspec": {
   "display_name": "Python 3 (ipykernel)",
   "language": "python",
   "name": "python3"
  },
  "language_info": {
   "codemirror_mode": {
    "name": "ipython",
    "version": 3
   },
   "file_extension": ".py",
   "mimetype": "text/x-python",
   "name": "python",
   "nbconvert_exporter": "python",
   "pygments_lexer": "ipython3",
   "version": "3.9.17"
  }
 },
 "nbformat": 4,
 "nbformat_minor": 5
}
