{
 "cells": [
  {
   "cell_type": "code",
   "execution_count": 113,
   "id": "de4b9ae7",
   "metadata": {},
   "outputs": [],
   "source": [
    "import pandas as pd\n",
    "from matplotlib import pyplot as plt"
   ]
  },
  {
   "cell_type": "code",
   "execution_count": 114,
   "id": "494e15c6",
   "metadata": {},
   "outputs": [],
   "source": [
    "data = pd.read_csv('D2.csv')"
   ]
  },
  {
   "cell_type": "code",
   "execution_count": 115,
   "id": "09a596bc",
   "metadata": {},
   "outputs": [],
   "source": [
    "df = data.copy()"
   ]
  },
  {
   "cell_type": "code",
   "execution_count": 116,
   "id": "e9435ec4",
   "metadata": {},
   "outputs": [
    {
     "name": "stdout",
     "output_type": "stream",
     "text": [
      "<class 'pandas.core.frame.DataFrame'>\n",
      "RangeIndex: 374 entries, 0 to 373\n",
      "Data columns (total 13 columns):\n",
      " #   Column                   Non-Null Count  Dtype  \n",
      "---  ------                   --------------  -----  \n",
      " 0   Person ID                374 non-null    int64  \n",
      " 1   Gender                   374 non-null    object \n",
      " 2   Age                      374 non-null    int64  \n",
      " 3   Occupation               374 non-null    object \n",
      " 4   Sleep Duration           374 non-null    float64\n",
      " 5   Quality of Sleep         374 non-null    int64  \n",
      " 6   Physical Activity Level  374 non-null    int64  \n",
      " 7   Stress Level             374 non-null    int64  \n",
      " 8   BMI Category             374 non-null    object \n",
      " 9   Blood Pressure           374 non-null    object \n",
      " 10  Heart Rate               374 non-null    int64  \n",
      " 11  Daily Steps              374 non-null    int64  \n",
      " 12  Sleep Disorder           374 non-null    object \n",
      "dtypes: float64(1), int64(7), object(5)\n",
      "memory usage: 38.1+ KB\n"
     ]
    }
   ],
   "source": [
    "df.info()"
   ]
  },
  {
   "cell_type": "code",
   "execution_count": 117,
   "id": "3e6f22eb",
   "metadata": {},
   "outputs": [
    {
     "data": {
      "text/html": [
       "<div>\n",
       "<style scoped>\n",
       "    .dataframe tbody tr th:only-of-type {\n",
       "        vertical-align: middle;\n",
       "    }\n",
       "\n",
       "    .dataframe tbody tr th {\n",
       "        vertical-align: top;\n",
       "    }\n",
       "\n",
       "    .dataframe thead th {\n",
       "        text-align: right;\n",
       "    }\n",
       "</style>\n",
       "<table border=\"1\" class=\"dataframe\">\n",
       "  <thead>\n",
       "    <tr style=\"text-align: right;\">\n",
       "      <th></th>\n",
       "      <th>Person ID</th>\n",
       "      <th>Gender</th>\n",
       "      <th>Age</th>\n",
       "      <th>Occupation</th>\n",
       "      <th>Sleep Duration</th>\n",
       "      <th>Quality of Sleep</th>\n",
       "      <th>Physical Activity Level</th>\n",
       "      <th>Stress Level</th>\n",
       "      <th>BMI Category</th>\n",
       "      <th>Blood Pressure</th>\n",
       "      <th>Heart Rate</th>\n",
       "      <th>Daily Steps</th>\n",
       "      <th>Sleep Disorder</th>\n",
       "    </tr>\n",
       "  </thead>\n",
       "  <tbody>\n",
       "    <tr>\n",
       "      <th>0</th>\n",
       "      <td>1</td>\n",
       "      <td>Male</td>\n",
       "      <td>27</td>\n",
       "      <td>Software Engineer</td>\n",
       "      <td>6.1</td>\n",
       "      <td>6</td>\n",
       "      <td>42</td>\n",
       "      <td>6</td>\n",
       "      <td>Overweight</td>\n",
       "      <td>126/83</td>\n",
       "      <td>77</td>\n",
       "      <td>4200</td>\n",
       "      <td>None</td>\n",
       "    </tr>\n",
       "    <tr>\n",
       "      <th>1</th>\n",
       "      <td>2</td>\n",
       "      <td>Male</td>\n",
       "      <td>28</td>\n",
       "      <td>Doctor</td>\n",
       "      <td>6.2</td>\n",
       "      <td>6</td>\n",
       "      <td>60</td>\n",
       "      <td>8</td>\n",
       "      <td>Normal</td>\n",
       "      <td>125/80</td>\n",
       "      <td>75</td>\n",
       "      <td>10000</td>\n",
       "      <td>None</td>\n",
       "    </tr>\n",
       "    <tr>\n",
       "      <th>2</th>\n",
       "      <td>3</td>\n",
       "      <td>Male</td>\n",
       "      <td>28</td>\n",
       "      <td>Doctor</td>\n",
       "      <td>6.2</td>\n",
       "      <td>6</td>\n",
       "      <td>60</td>\n",
       "      <td>8</td>\n",
       "      <td>Normal</td>\n",
       "      <td>125/80</td>\n",
       "      <td>75</td>\n",
       "      <td>10000</td>\n",
       "      <td>None</td>\n",
       "    </tr>\n",
       "    <tr>\n",
       "      <th>3</th>\n",
       "      <td>4</td>\n",
       "      <td>Male</td>\n",
       "      <td>28</td>\n",
       "      <td>Sales Representative</td>\n",
       "      <td>5.9</td>\n",
       "      <td>4</td>\n",
       "      <td>30</td>\n",
       "      <td>8</td>\n",
       "      <td>Obese</td>\n",
       "      <td>140/90</td>\n",
       "      <td>85</td>\n",
       "      <td>3000</td>\n",
       "      <td>Sleep Apnea</td>\n",
       "    </tr>\n",
       "    <tr>\n",
       "      <th>4</th>\n",
       "      <td>5</td>\n",
       "      <td>Male</td>\n",
       "      <td>28</td>\n",
       "      <td>Sales Representative</td>\n",
       "      <td>5.9</td>\n",
       "      <td>4</td>\n",
       "      <td>30</td>\n",
       "      <td>8</td>\n",
       "      <td>Obese</td>\n",
       "      <td>140/90</td>\n",
       "      <td>85</td>\n",
       "      <td>3000</td>\n",
       "      <td>Sleep Apnea</td>\n",
       "    </tr>\n",
       "  </tbody>\n",
       "</table>\n",
       "</div>"
      ],
      "text/plain": [
       "   Person ID Gender  Age            Occupation  Sleep Duration  \\\n",
       "0          1   Male   27     Software Engineer             6.1   \n",
       "1          2   Male   28                Doctor             6.2   \n",
       "2          3   Male   28                Doctor             6.2   \n",
       "3          4   Male   28  Sales Representative             5.9   \n",
       "4          5   Male   28  Sales Representative             5.9   \n",
       "\n",
       "   Quality of Sleep  Physical Activity Level  Stress Level BMI Category  \\\n",
       "0                 6                       42             6   Overweight   \n",
       "1                 6                       60             8       Normal   \n",
       "2                 6                       60             8       Normal   \n",
       "3                 4                       30             8        Obese   \n",
       "4                 4                       30             8        Obese   \n",
       "\n",
       "  Blood Pressure  Heart Rate  Daily Steps Sleep Disorder  \n",
       "0         126/83          77         4200           None  \n",
       "1         125/80          75        10000           None  \n",
       "2         125/80          75        10000           None  \n",
       "3         140/90          85         3000    Sleep Apnea  \n",
       "4         140/90          85         3000    Sleep Apnea  "
      ]
     },
     "execution_count": 117,
     "metadata": {},
     "output_type": "execute_result"
    }
   ],
   "source": [
    "df.head()"
   ]
  },
  {
   "cell_type": "code",
   "execution_count": 118,
   "id": "bf8a85d6",
   "metadata": {},
   "outputs": [],
   "source": [
    "df.drop(\"Person ID\",axis=1,inplace=True)"
   ]
  },
  {
   "cell_type": "code",
   "execution_count": 119,
   "id": "05f26b5b",
   "metadata": {},
   "outputs": [],
   "source": [
    "cols = ['Gender','Occupation','BMI Category','Sleep Disorder']\n",
    "from sklearn.preprocessing import LabelEncoder\n",
    "le = LabelEncoder()\n",
    "for col in cols:\n",
    "    df[col] = le.fit_transform(df[col])"
   ]
  },
  {
   "cell_type": "code",
   "execution_count": 120,
   "id": "3fe9da49",
   "metadata": {},
   "outputs": [
    {
     "name": "stdout",
     "output_type": "stream",
     "text": [
      "<class 'pandas.core.frame.DataFrame'>\n",
      "RangeIndex: 374 entries, 0 to 373\n",
      "Data columns (total 12 columns):\n",
      " #   Column                   Non-Null Count  Dtype  \n",
      "---  ------                   --------------  -----  \n",
      " 0   Gender                   374 non-null    int32  \n",
      " 1   Age                      374 non-null    int64  \n",
      " 2   Occupation               374 non-null    int32  \n",
      " 3   Sleep Duration           374 non-null    float64\n",
      " 4   Quality of Sleep         374 non-null    int64  \n",
      " 5   Physical Activity Level  374 non-null    int64  \n",
      " 6   Stress Level             374 non-null    int64  \n",
      " 7   BMI Category             374 non-null    int32  \n",
      " 8   Blood Pressure           374 non-null    object \n",
      " 9   Heart Rate               374 non-null    int64  \n",
      " 10  Daily Steps              374 non-null    int64  \n",
      " 11  Sleep Disorder           374 non-null    int32  \n",
      "dtypes: float64(1), int32(4), int64(6), object(1)\n",
      "memory usage: 29.3+ KB\n"
     ]
    }
   ],
   "source": [
    "df.info()"
   ]
  },
  {
   "cell_type": "code",
   "execution_count": 121,
   "id": "ed63bbc3",
   "metadata": {},
   "outputs": [],
   "source": [
    "df[['Systolic', 'Diastolic']] = df['Blood Pressure'].str.split('/', expand=True)"
   ]
  },
  {
   "cell_type": "code",
   "execution_count": 122,
   "id": "3078a080",
   "metadata": {},
   "outputs": [],
   "source": [
    "df.drop(\"Blood Pressure\",axis=1,inplace=True)"
   ]
  },
  {
   "cell_type": "code",
   "execution_count": 123,
   "id": "853bac18",
   "metadata": {},
   "outputs": [],
   "source": [
    "df[['Systolic', 'Diastolic']] = df[['Systolic', 'Diastolic']].astype(int)"
   ]
  },
  {
   "cell_type": "code",
   "execution_count": 124,
   "id": "f1a22467",
   "metadata": {},
   "outputs": [],
   "source": [
    "# Custom function to encode blood pressure into levels\n",
    "def encode_bp_level(row):\n",
    "    systolic = row['Systolic']\n",
    "    diastolic = row['Diastolic']\n",
    "    \n",
    "    if systolic >= 140 or diastolic >= 90:\n",
    "        return 'High'\n",
    "    elif systolic <= 90 or diastolic <= 60:\n",
    "        return 'Low'\n",
    "    else:\n",
    "        return 'Normal'\n",
    "\n",
    "# Apply the custom function to create a new column 'BP_Level'\n",
    "df['BP_Level'] = df.apply(encode_bp_level, axis=1)"
   ]
  },
  {
   "cell_type": "code",
   "execution_count": 125,
   "id": "1f9f787c",
   "metadata": {},
   "outputs": [],
   "source": [
    "df.drop([\"Systolic\",\"Diastolic\"],axis=1,inplace=True)"
   ]
  },
  {
   "cell_type": "code",
   "execution_count": 126,
   "id": "375e1ea0",
   "metadata": {},
   "outputs": [],
   "source": [
    "df[\"BP_Level\"] = le.fit_transform(df['BP_Level'])"
   ]
  },
  {
   "cell_type": "code",
   "execution_count": 127,
   "id": "fe00d5e2",
   "metadata": {},
   "outputs": [],
   "source": [
    "df['Daily Steps'] = df['Daily Steps']/1000.0"
   ]
  },
  {
   "cell_type": "code",
   "execution_count": 128,
   "id": "c6f5d5f3",
   "metadata": {},
   "outputs": [],
   "source": [
    "#trans minute to hour\n",
    "df['Physical Activity Level'] = df['Physical Activity Level']/60.0\n",
    "df['Heart Rate'] = df['Heart Rate']/60.0"
   ]
  },
  {
   "cell_type": "code",
   "execution_count": 129,
   "id": "8daae15b",
   "metadata": {},
   "outputs": [],
   "source": [
    "# Round the float values to two decimal places\n",
    "df[['Physical Activity Level','Heart Rate']] = df[['Physical Activity Level','Heart Rate']].round(2)"
   ]
  },
  {
   "cell_type": "code",
   "execution_count": 139,
   "id": "3fd67a50",
   "metadata": {},
   "outputs": [
    {
     "data": {
      "text/plain": [
       "Gender                     0\n",
       "Age                        0\n",
       "Occupation                 0\n",
       "Sleep Duration             0\n",
       "Quality of Sleep           0\n",
       "Physical Activity Level    0\n",
       "Stress Level               0\n",
       "BMI Category               0\n",
       "Heart Rate                 0\n",
       "Daily Steps                0\n",
       "Sleep Disorder             0\n",
       "BP_Level                   0\n",
       "dtype: int64"
      ]
     },
     "execution_count": 139,
     "metadata": {},
     "output_type": "execute_result"
    }
   ],
   "source": [
    "df.isna().sum()"
   ]
  },
  {
   "cell_type": "code",
   "execution_count": 130,
   "id": "40f1483a",
   "metadata": {},
   "outputs": [],
   "source": [
    "from sklearn.model_selection import train_test_split\n",
    "X = df.drop(['Sleep Disorder'],axis=1)\n",
    "Y = df['Sleep Disorder']\n",
    "X_train,X_test,y_train,y_test = train_test_split(X,Y,test_size=0.2)"
   ]
  },
  {
   "cell_type": "code",
   "execution_count": 131,
   "id": "f47679f8",
   "metadata": {},
   "outputs": [
    {
     "data": {
      "text/plain": [
       "(299, 11)"
      ]
     },
     "execution_count": 131,
     "metadata": {},
     "output_type": "execute_result"
    }
   ],
   "source": [
    "X_train.shape"
   ]
  },
  {
   "cell_type": "code",
   "execution_count": 132,
   "id": "5df694d4",
   "metadata": {},
   "outputs": [
    {
     "data": {
      "text/html": [
       "<div>\n",
       "<style scoped>\n",
       "    .dataframe tbody tr th:only-of-type {\n",
       "        vertical-align: middle;\n",
       "    }\n",
       "\n",
       "    .dataframe tbody tr th {\n",
       "        vertical-align: top;\n",
       "    }\n",
       "\n",
       "    .dataframe thead th {\n",
       "        text-align: right;\n",
       "    }\n",
       "</style>\n",
       "<table border=\"1\" class=\"dataframe\">\n",
       "  <thead>\n",
       "    <tr style=\"text-align: right;\">\n",
       "      <th></th>\n",
       "      <th>Gender</th>\n",
       "      <th>Age</th>\n",
       "      <th>Occupation</th>\n",
       "      <th>Sleep Duration</th>\n",
       "      <th>Quality of Sleep</th>\n",
       "      <th>Physical Activity Level</th>\n",
       "      <th>Stress Level</th>\n",
       "      <th>BMI Category</th>\n",
       "      <th>Heart Rate</th>\n",
       "      <th>Daily Steps</th>\n",
       "      <th>BP_Level</th>\n",
       "    </tr>\n",
       "  </thead>\n",
       "  <tbody>\n",
       "    <tr>\n",
       "      <th>196</th>\n",
       "      <td>1</td>\n",
       "      <td>43</td>\n",
       "      <td>7</td>\n",
       "      <td>6.5</td>\n",
       "      <td>6</td>\n",
       "      <td>0.75</td>\n",
       "      <td>7</td>\n",
       "      <td>3</td>\n",
       "      <td>1.20</td>\n",
       "      <td>6.0</td>\n",
       "      <td>1</td>\n",
       "    </tr>\n",
       "    <tr>\n",
       "      <th>33</th>\n",
       "      <td>1</td>\n",
       "      <td>31</td>\n",
       "      <td>1</td>\n",
       "      <td>6.1</td>\n",
       "      <td>6</td>\n",
       "      <td>0.50</td>\n",
       "      <td>8</td>\n",
       "      <td>0</td>\n",
       "      <td>1.20</td>\n",
       "      <td>5.0</td>\n",
       "      <td>1</td>\n",
       "    </tr>\n",
       "    <tr>\n",
       "      <th>128</th>\n",
       "      <td>1</td>\n",
       "      <td>38</td>\n",
       "      <td>3</td>\n",
       "      <td>7.3</td>\n",
       "      <td>8</td>\n",
       "      <td>1.00</td>\n",
       "      <td>5</td>\n",
       "      <td>0</td>\n",
       "      <td>1.13</td>\n",
       "      <td>8.0</td>\n",
       "      <td>1</td>\n",
       "    </tr>\n",
       "    <tr>\n",
       "      <th>127</th>\n",
       "      <td>0</td>\n",
       "      <td>38</td>\n",
       "      <td>0</td>\n",
       "      <td>7.1</td>\n",
       "      <td>8</td>\n",
       "      <td>1.00</td>\n",
       "      <td>4</td>\n",
       "      <td>0</td>\n",
       "      <td>1.13</td>\n",
       "      <td>7.0</td>\n",
       "      <td>1</td>\n",
       "    </tr>\n",
       "    <tr>\n",
       "      <th>131</th>\n",
       "      <td>1</td>\n",
       "      <td>38</td>\n",
       "      <td>3</td>\n",
       "      <td>7.3</td>\n",
       "      <td>8</td>\n",
       "      <td>1.00</td>\n",
       "      <td>5</td>\n",
       "      <td>0</td>\n",
       "      <td>1.13</td>\n",
       "      <td>8.0</td>\n",
       "      <td>1</td>\n",
       "    </tr>\n",
       "  </tbody>\n",
       "</table>\n",
       "</div>"
      ],
      "text/plain": [
       "     Gender  Age  Occupation  Sleep Duration  Quality of Sleep  \\\n",
       "196       1   43           7             6.5                 6   \n",
       "33        1   31           1             6.1                 6   \n",
       "128       1   38           3             7.3                 8   \n",
       "127       0   38           0             7.1                 8   \n",
       "131       1   38           3             7.3                 8   \n",
       "\n",
       "     Physical Activity Level  Stress Level  BMI Category  Heart Rate  \\\n",
       "196                     0.75             7             3        1.20   \n",
       "33                      0.50             8             0        1.20   \n",
       "128                     1.00             5             0        1.13   \n",
       "127                     1.00             4             0        1.13   \n",
       "131                     1.00             5             0        1.13   \n",
       "\n",
       "     Daily Steps  BP_Level  \n",
       "196          6.0         1  \n",
       "33           5.0         1  \n",
       "128          8.0         1  \n",
       "127          7.0         1  \n",
       "131          8.0         1  "
      ]
     },
     "execution_count": 132,
     "metadata": {},
     "output_type": "execute_result"
    }
   ],
   "source": [
    "X_train.head()"
   ]
  },
  {
   "cell_type": "code",
   "execution_count": 133,
   "id": "b7ac26ab",
   "metadata": {},
   "outputs": [],
   "source": [
    "#ANN\n",
    "import tensorflow as tf\n",
    "from tensorflow import keras"
   ]
  },
  {
   "cell_type": "code",
   "execution_count": 134,
   "id": "7b6d7b80",
   "metadata": {},
   "outputs": [
    {
     "name": "stdout",
     "output_type": "stream",
     "text": [
      "Model: \"sequential_6\"\n",
      "_________________________________________________________________\n",
      " Layer (type)                Output Shape              Param #   \n",
      "=================================================================\n",
      " flatten_6 (Flatten)         (None, 11)                0         \n",
      "                                                                 \n",
      " dense_18 (Dense)            (None, 11)                132       \n",
      "                                                                 \n",
      " dense_19 (Dense)            (None, 6)                 72        \n",
      "                                                                 \n",
      " dense_20 (Dense)            (None, 3)                 21        \n",
      "                                                                 \n",
      "=================================================================\n",
      "Total params: 225 (900.00 Byte)\n",
      "Trainable params: 225 (900.00 Byte)\n",
      "Non-trainable params: 0 (0.00 Byte)\n",
      "_________________________________________________________________\n"
     ]
    }
   ],
   "source": [
    "model = keras.models.Sequential()\n",
    "activation = 'relu'\n",
    "model.add(keras.layers.Flatten(input_shape=[11]))\n",
    "model.add(keras.layers.Dense(11,activation=activation))\n",
    "model.add(keras.layers.Dense(6,activation=activation))\n",
    "model.add(keras.layers.Dense(3,activation=\"softmax\"))\n",
    "\n",
    "model.summary()"
   ]
  },
  {
   "cell_type": "code",
   "execution_count": 135,
   "id": "e59e90df",
   "metadata": {},
   "outputs": [],
   "source": [
    "model.compile(optimizer='adam', loss='sparse_categorical_crossentropy', metrics=['accuracy'])"
   ]
  },
  {
   "cell_type": "code",
   "execution_count": 136,
   "id": "1dbdeac4",
   "metadata": {},
   "outputs": [
    {
     "name": "stdout",
     "output_type": "stream",
     "text": [
      "Epoch 1/300\n",
      "10/10 [==============================] - 2s 48ms/step - loss: 1.0069 - accuracy: 0.5886 - val_loss: 0.8906 - val_accuracy: 0.5733\n",
      "Epoch 2/300\n",
      "10/10 [==============================] - 0s 13ms/step - loss: 0.9416 - accuracy: 0.5886 - val_loss: 0.8777 - val_accuracy: 0.5733\n",
      "Epoch 3/300\n",
      "10/10 [==============================] - 0s 12ms/step - loss: 0.9097 - accuracy: 0.6020 - val_loss: 0.8777 - val_accuracy: 0.6533\n",
      "Epoch 4/300\n",
      "10/10 [==============================] - 0s 15ms/step - loss: 0.8883 - accuracy: 0.5886 - val_loss: 0.8442 - val_accuracy: 0.5733\n",
      "Epoch 5/300\n",
      "10/10 [==============================] - 0s 15ms/step - loss: 0.8669 - accuracy: 0.5886 - val_loss: 0.8187 - val_accuracy: 0.5733\n",
      "Epoch 6/300\n",
      "10/10 [==============================] - 0s 15ms/step - loss: 0.8432 - accuracy: 0.5886 - val_loss: 0.7952 - val_accuracy: 0.5733\n",
      "Epoch 7/300\n",
      "10/10 [==============================] - 0s 16ms/step - loss: 0.8192 - accuracy: 0.5886 - val_loss: 0.7594 - val_accuracy: 0.5733\n",
      "Epoch 8/300\n",
      "10/10 [==============================] - 0s 13ms/step - loss: 0.7945 - accuracy: 0.5886 - val_loss: 0.7291 - val_accuracy: 0.5733\n",
      "Epoch 9/300\n",
      "10/10 [==============================] - 0s 15ms/step - loss: 0.7747 - accuracy: 0.5886 - val_loss: 0.7021 - val_accuracy: 0.5733\n",
      "Epoch 10/300\n",
      "10/10 [==============================] - 0s 14ms/step - loss: 0.7577 - accuracy: 0.5886 - val_loss: 0.6753 - val_accuracy: 0.5733\n",
      "Epoch 11/300\n",
      "10/10 [==============================] - 0s 16ms/step - loss: 0.7404 - accuracy: 0.5886 - val_loss: 0.6540 - val_accuracy: 0.5733\n",
      "Epoch 12/300\n",
      "10/10 [==============================] - 0s 14ms/step - loss: 0.7246 - accuracy: 0.5953 - val_loss: 0.6232 - val_accuracy: 0.6400\n",
      "Epoch 13/300\n",
      "10/10 [==============================] - 0s 14ms/step - loss: 0.7111 - accuracy: 0.6789 - val_loss: 0.6162 - val_accuracy: 0.7067\n",
      "Epoch 14/300\n",
      "10/10 [==============================] - 0s 15ms/step - loss: 0.7075 - accuracy: 0.7124 - val_loss: 0.5987 - val_accuracy: 0.7067\n",
      "Epoch 15/300\n",
      "10/10 [==============================] - 0s 15ms/step - loss: 0.6984 - accuracy: 0.7191 - val_loss: 0.6007 - val_accuracy: 0.7067\n",
      "Epoch 16/300\n",
      "10/10 [==============================] - 0s 15ms/step - loss: 0.6921 - accuracy: 0.7157 - val_loss: 0.5905 - val_accuracy: 0.7067\n",
      "Epoch 17/300\n",
      "10/10 [==============================] - 0s 15ms/step - loss: 0.6894 - accuracy: 0.7157 - val_loss: 0.5934 - val_accuracy: 0.7067\n",
      "Epoch 18/300\n",
      "10/10 [==============================] - 0s 15ms/step - loss: 0.6847 - accuracy: 0.7224 - val_loss: 0.5918 - val_accuracy: 0.7067\n",
      "Epoch 19/300\n",
      "10/10 [==============================] - 0s 16ms/step - loss: 0.6813 - accuracy: 0.7224 - val_loss: 0.5867 - val_accuracy: 0.7067\n",
      "Epoch 20/300\n",
      "10/10 [==============================] - 0s 16ms/step - loss: 0.6783 - accuracy: 0.7224 - val_loss: 0.5823 - val_accuracy: 0.7067\n",
      "Epoch 21/300\n",
      "10/10 [==============================] - 0s 15ms/step - loss: 0.6739 - accuracy: 0.7224 - val_loss: 0.5825 - val_accuracy: 0.7067\n",
      "Epoch 22/300\n",
      "10/10 [==============================] - 0s 14ms/step - loss: 0.6701 - accuracy: 0.7224 - val_loss: 0.5799 - val_accuracy: 0.7067\n",
      "Epoch 23/300\n",
      "10/10 [==============================] - 0s 16ms/step - loss: 0.6667 - accuracy: 0.7224 - val_loss: 0.5762 - val_accuracy: 0.7067\n",
      "Epoch 24/300\n",
      "10/10 [==============================] - 0s 16ms/step - loss: 0.6623 - accuracy: 0.7224 - val_loss: 0.5793 - val_accuracy: 0.7067\n",
      "Epoch 25/300\n",
      "10/10 [==============================] - 0s 14ms/step - loss: 0.6610 - accuracy: 0.7224 - val_loss: 0.5765 - val_accuracy: 0.7067\n",
      "Epoch 26/300\n",
      "10/10 [==============================] - 0s 15ms/step - loss: 0.6583 - accuracy: 0.7124 - val_loss: 0.5736 - val_accuracy: 0.7467\n",
      "Epoch 27/300\n",
      "10/10 [==============================] - 0s 15ms/step - loss: 0.6559 - accuracy: 0.7391 - val_loss: 0.5709 - val_accuracy: 0.7733\n",
      "Epoch 28/300\n",
      "10/10 [==============================] - 0s 14ms/step - loss: 0.6526 - accuracy: 0.7726 - val_loss: 0.5668 - val_accuracy: 0.8000\n",
      "Epoch 29/300\n",
      "10/10 [==============================] - 0s 15ms/step - loss: 0.6498 - accuracy: 0.7759 - val_loss: 0.5668 - val_accuracy: 0.8000\n",
      "Epoch 30/300\n",
      "10/10 [==============================] - 0s 14ms/step - loss: 0.6479 - accuracy: 0.7860 - val_loss: 0.5625 - val_accuracy: 0.8000\n",
      "Epoch 31/300\n",
      "10/10 [==============================] - 0s 14ms/step - loss: 0.6457 - accuracy: 0.7960 - val_loss: 0.5625 - val_accuracy: 0.8000\n",
      "Epoch 32/300\n",
      "10/10 [==============================] - 0s 14ms/step - loss: 0.6427 - accuracy: 0.7893 - val_loss: 0.5566 - val_accuracy: 0.8000\n",
      "Epoch 33/300\n",
      "10/10 [==============================] - 0s 15ms/step - loss: 0.6415 - accuracy: 0.8161 - val_loss: 0.5602 - val_accuracy: 0.9067\n",
      "Epoch 34/300\n",
      "10/10 [==============================] - 0s 16ms/step - loss: 0.6361 - accuracy: 0.8528 - val_loss: 0.5545 - val_accuracy: 0.9333\n",
      "Epoch 35/300\n",
      "10/10 [==============================] - 0s 12ms/step - loss: 0.6352 - accuracy: 0.8562 - val_loss: 0.5551 - val_accuracy: 0.9333\n",
      "Epoch 36/300\n",
      "10/10 [==============================] - 0s 16ms/step - loss: 0.6322 - accuracy: 0.8395 - val_loss: 0.5565 - val_accuracy: 0.9067\n",
      "Epoch 37/300\n",
      "10/10 [==============================] - 0s 12ms/step - loss: 0.6309 - accuracy: 0.8395 - val_loss: 0.5524 - val_accuracy: 0.9333\n",
      "Epoch 38/300\n",
      "10/10 [==============================] - 0s 11ms/step - loss: 0.6290 - accuracy: 0.8528 - val_loss: 0.5511 - val_accuracy: 0.9467\n",
      "Epoch 39/300\n",
      "10/10 [==============================] - 0s 12ms/step - loss: 0.6249 - accuracy: 0.8629 - val_loss: 0.5461 - val_accuracy: 0.9333\n",
      "Epoch 40/300\n",
      "10/10 [==============================] - 0s 12ms/step - loss: 0.6237 - accuracy: 0.8595 - val_loss: 0.5472 - val_accuracy: 0.9467\n",
      "Epoch 41/300\n",
      "10/10 [==============================] - 0s 11ms/step - loss: 0.6212 - accuracy: 0.8595 - val_loss: 0.5426 - val_accuracy: 0.9467\n",
      "Epoch 42/300\n",
      "10/10 [==============================] - 0s 13ms/step - loss: 0.6188 - accuracy: 0.8629 - val_loss: 0.5393 - val_accuracy: 0.9467\n",
      "Epoch 43/300\n",
      "10/10 [==============================] - 0s 12ms/step - loss: 0.6159 - accuracy: 0.8662 - val_loss: 0.5368 - val_accuracy: 0.9467\n",
      "Epoch 44/300\n",
      "10/10 [==============================] - 0s 11ms/step - loss: 0.6141 - accuracy: 0.8662 - val_loss: 0.5354 - val_accuracy: 0.9467\n",
      "Epoch 45/300\n",
      "10/10 [==============================] - 0s 11ms/step - loss: 0.6118 - accuracy: 0.8629 - val_loss: 0.5348 - val_accuracy: 0.9467\n",
      "Epoch 46/300\n",
      "10/10 [==============================] - 0s 12ms/step - loss: 0.6093 - accuracy: 0.8629 - val_loss: 0.5312 - val_accuracy: 0.9467\n",
      "Epoch 47/300\n",
      "10/10 [==============================] - 0s 14ms/step - loss: 0.6076 - accuracy: 0.8595 - val_loss: 0.5287 - val_accuracy: 0.9467\n",
      "Epoch 48/300\n",
      "10/10 [==============================] - 0s 12ms/step - loss: 0.6057 - accuracy: 0.8562 - val_loss: 0.5306 - val_accuracy: 0.9467\n",
      "Epoch 49/300\n",
      "10/10 [==============================] - 0s 11ms/step - loss: 0.6026 - accuracy: 0.8595 - val_loss: 0.5271 - val_accuracy: 0.9467\n",
      "Epoch 50/300\n",
      "10/10 [==============================] - 0s 13ms/step - loss: 0.6043 - accuracy: 0.8595 - val_loss: 0.5253 - val_accuracy: 0.9467\n",
      "Epoch 51/300\n",
      "10/10 [==============================] - 0s 13ms/step - loss: 0.5994 - accuracy: 0.8562 - val_loss: 0.5217 - val_accuracy: 0.9467\n",
      "Epoch 52/300\n",
      "10/10 [==============================] - 0s 12ms/step - loss: 0.5975 - accuracy: 0.8562 - val_loss: 0.5204 - val_accuracy: 0.9467\n",
      "Epoch 53/300\n",
      "10/10 [==============================] - 0s 11ms/step - loss: 0.5950 - accuracy: 0.8562 - val_loss: 0.5212 - val_accuracy: 0.9333\n",
      "Epoch 54/300\n",
      "10/10 [==============================] - 0s 12ms/step - loss: 0.5920 - accuracy: 0.8595 - val_loss: 0.5171 - val_accuracy: 0.9467\n",
      "Epoch 55/300\n",
      "10/10 [==============================] - 0s 11ms/step - loss: 0.5920 - accuracy: 0.8629 - val_loss: 0.5168 - val_accuracy: 0.9467\n",
      "Epoch 56/300\n",
      "10/10 [==============================] - 0s 12ms/step - loss: 0.5898 - accuracy: 0.8595 - val_loss: 0.5199 - val_accuracy: 0.9333\n",
      "Epoch 57/300\n",
      "10/10 [==============================] - 0s 11ms/step - loss: 0.5899 - accuracy: 0.8629 - val_loss: 0.5140 - val_accuracy: 0.9333\n",
      "Epoch 58/300\n"
     ]
    },
    {
     "name": "stdout",
     "output_type": "stream",
     "text": [
      "10/10 [==============================] - 0s 10ms/step - loss: 0.5860 - accuracy: 0.8629 - val_loss: 0.5126 - val_accuracy: 0.9333\n",
      "Epoch 59/300\n",
      "10/10 [==============================] - 0s 12ms/step - loss: 0.5827 - accuracy: 0.8595 - val_loss: 0.5053 - val_accuracy: 0.9333\n",
      "Epoch 60/300\n",
      "10/10 [==============================] - 0s 11ms/step - loss: 0.5800 - accuracy: 0.8562 - val_loss: 0.5045 - val_accuracy: 0.9333\n",
      "Epoch 61/300\n",
      "10/10 [==============================] - 0s 11ms/step - loss: 0.5786 - accuracy: 0.8562 - val_loss: 0.5021 - val_accuracy: 0.9333\n",
      "Epoch 62/300\n",
      "10/10 [==============================] - 0s 10ms/step - loss: 0.5783 - accuracy: 0.8629 - val_loss: 0.5004 - val_accuracy: 0.9333\n",
      "Epoch 63/300\n",
      "10/10 [==============================] - 0s 10ms/step - loss: 0.5819 - accuracy: 0.8662 - val_loss: 0.5097 - val_accuracy: 0.9200\n",
      "Epoch 64/300\n",
      "10/10 [==============================] - 0s 12ms/step - loss: 0.5741 - accuracy: 0.8796 - val_loss: 0.4998 - val_accuracy: 0.9467\n",
      "Epoch 65/300\n",
      "10/10 [==============================] - 0s 11ms/step - loss: 0.5713 - accuracy: 0.8696 - val_loss: 0.5047 - val_accuracy: 0.9333\n",
      "Epoch 66/300\n",
      "10/10 [==============================] - 0s 11ms/step - loss: 0.5697 - accuracy: 0.8796 - val_loss: 0.4894 - val_accuracy: 0.9333\n",
      "Epoch 67/300\n",
      "10/10 [==============================] - 0s 11ms/step - loss: 0.5679 - accuracy: 0.8729 - val_loss: 0.4876 - val_accuracy: 0.9333\n",
      "Epoch 68/300\n",
      "10/10 [==============================] - 0s 11ms/step - loss: 0.5641 - accuracy: 0.8729 - val_loss: 0.4894 - val_accuracy: 0.9333\n",
      "Epoch 69/300\n",
      "10/10 [==============================] - 0s 11ms/step - loss: 0.5633 - accuracy: 0.8763 - val_loss: 0.4874 - val_accuracy: 0.9333\n",
      "Epoch 70/300\n",
      "10/10 [==============================] - 0s 11ms/step - loss: 0.5634 - accuracy: 0.8595 - val_loss: 0.4799 - val_accuracy: 0.9333\n",
      "Epoch 71/300\n",
      "10/10 [==============================] - 0s 12ms/step - loss: 0.5598 - accuracy: 0.8763 - val_loss: 0.4841 - val_accuracy: 0.9333\n",
      "Epoch 72/300\n",
      "10/10 [==============================] - 0s 12ms/step - loss: 0.5556 - accuracy: 0.8796 - val_loss: 0.4820 - val_accuracy: 0.9333\n",
      "Epoch 73/300\n",
      "10/10 [==============================] - 0s 13ms/step - loss: 0.5568 - accuracy: 0.8662 - val_loss: 0.4764 - val_accuracy: 0.9333\n",
      "Epoch 74/300\n",
      "10/10 [==============================] - 0s 11ms/step - loss: 0.5548 - accuracy: 0.8662 - val_loss: 0.4718 - val_accuracy: 0.9333\n",
      "Epoch 75/300\n",
      "10/10 [==============================] - 0s 12ms/step - loss: 0.5519 - accuracy: 0.8729 - val_loss: 0.4688 - val_accuracy: 0.9333\n",
      "Epoch 76/300\n",
      "10/10 [==============================] - 0s 12ms/step - loss: 0.5478 - accuracy: 0.8796 - val_loss: 0.4665 - val_accuracy: 0.9333\n",
      "Epoch 77/300\n",
      "10/10 [==============================] - 0s 11ms/step - loss: 0.5479 - accuracy: 0.8763 - val_loss: 0.4645 - val_accuracy: 0.9333\n",
      "Epoch 78/300\n",
      "10/10 [==============================] - 0s 11ms/step - loss: 0.5467 - accuracy: 0.8662 - val_loss: 0.4585 - val_accuracy: 0.9333\n",
      "Epoch 79/300\n",
      "10/10 [==============================] - 0s 11ms/step - loss: 0.5435 - accuracy: 0.8696 - val_loss: 0.4549 - val_accuracy: 0.9333\n",
      "Epoch 80/300\n",
      "10/10 [==============================] - 0s 11ms/step - loss: 0.5412 - accuracy: 0.8729 - val_loss: 0.4586 - val_accuracy: 0.9200\n",
      "Epoch 81/300\n",
      "10/10 [==============================] - 0s 15ms/step - loss: 0.5406 - accuracy: 0.8796 - val_loss: 0.4536 - val_accuracy: 0.9200\n",
      "Epoch 82/300\n",
      "10/10 [==============================] - 0s 10ms/step - loss: 0.5368 - accuracy: 0.8696 - val_loss: 0.4514 - val_accuracy: 0.9333\n",
      "Epoch 83/300\n",
      "10/10 [==============================] - 0s 11ms/step - loss: 0.5363 - accuracy: 0.8763 - val_loss: 0.4488 - val_accuracy: 0.9200\n",
      "Epoch 84/300\n",
      "10/10 [==============================] - 0s 11ms/step - loss: 0.5334 - accuracy: 0.8629 - val_loss: 0.4446 - val_accuracy: 0.9333\n",
      "Epoch 85/300\n",
      "10/10 [==============================] - 0s 12ms/step - loss: 0.5324 - accuracy: 0.8796 - val_loss: 0.4428 - val_accuracy: 0.9333\n",
      "Epoch 86/300\n",
      "10/10 [==============================] - 0s 11ms/step - loss: 0.5291 - accuracy: 0.8696 - val_loss: 0.4392 - val_accuracy: 0.9200\n",
      "Epoch 87/300\n",
      "10/10 [==============================] - 0s 11ms/step - loss: 0.5268 - accuracy: 0.8729 - val_loss: 0.4417 - val_accuracy: 0.9200\n",
      "Epoch 88/300\n",
      "10/10 [==============================] - 0s 12ms/step - loss: 0.5276 - accuracy: 0.8763 - val_loss: 0.4374 - val_accuracy: 0.9200\n",
      "Epoch 89/300\n",
      "10/10 [==============================] - 0s 12ms/step - loss: 0.5250 - accuracy: 0.8729 - val_loss: 0.4335 - val_accuracy: 0.9333\n",
      "Epoch 90/300\n",
      "10/10 [==============================] - 0s 12ms/step - loss: 0.5208 - accuracy: 0.8729 - val_loss: 0.4351 - val_accuracy: 0.9333\n",
      "Epoch 91/300\n",
      "10/10 [==============================] - 0s 12ms/step - loss: 0.5216 - accuracy: 0.8763 - val_loss: 0.4302 - val_accuracy: 0.9333\n",
      "Epoch 92/300\n",
      "10/10 [==============================] - 0s 11ms/step - loss: 0.5174 - accuracy: 0.8696 - val_loss: 0.4267 - val_accuracy: 0.9333\n",
      "Epoch 93/300\n",
      "10/10 [==============================] - 0s 12ms/step - loss: 0.5159 - accuracy: 0.8763 - val_loss: 0.4276 - val_accuracy: 0.9333\n",
      "Epoch 94/300\n",
      "10/10 [==============================] - 0s 12ms/step - loss: 0.5138 - accuracy: 0.8796 - val_loss: 0.4262 - val_accuracy: 0.9333\n",
      "Epoch 95/300\n",
      "10/10 [==============================] - 0s 11ms/step - loss: 0.5151 - accuracy: 0.8763 - val_loss: 0.4212 - val_accuracy: 0.9200\n",
      "Epoch 96/300\n",
      "10/10 [==============================] - 0s 12ms/step - loss: 0.5113 - accuracy: 0.8729 - val_loss: 0.4176 - val_accuracy: 0.9333\n",
      "Epoch 97/300\n",
      "10/10 [==============================] - 0s 11ms/step - loss: 0.5085 - accuracy: 0.8796 - val_loss: 0.4119 - val_accuracy: 0.9333\n",
      "Epoch 98/300\n",
      "10/10 [==============================] - 0s 11ms/step - loss: 0.5071 - accuracy: 0.8729 - val_loss: 0.4106 - val_accuracy: 0.9333\n",
      "Epoch 99/300\n",
      "10/10 [==============================] - 0s 10ms/step - loss: 0.5066 - accuracy: 0.8562 - val_loss: 0.4100 - val_accuracy: 0.9333\n",
      "Epoch 100/300\n",
      "10/10 [==============================] - 0s 10ms/step - loss: 0.5053 - accuracy: 0.8662 - val_loss: 0.4061 - val_accuracy: 0.9333\n",
      "Epoch 101/300\n",
      "10/10 [==============================] - 0s 12ms/step - loss: 0.5015 - accuracy: 0.8796 - val_loss: 0.4063 - val_accuracy: 0.9333\n",
      "Epoch 102/300\n",
      "10/10 [==============================] - 0s 10ms/step - loss: 0.4998 - accuracy: 0.8729 - val_loss: 0.4040 - val_accuracy: 0.9333\n",
      "Epoch 103/300\n",
      "10/10 [==============================] - 0s 11ms/step - loss: 0.4982 - accuracy: 0.8763 - val_loss: 0.4021 - val_accuracy: 0.9333\n",
      "Epoch 104/300\n",
      "10/10 [==============================] - 0s 10ms/step - loss: 0.4973 - accuracy: 0.8763 - val_loss: 0.3990 - val_accuracy: 0.9333\n",
      "Epoch 105/300\n",
      "10/10 [==============================] - 0s 11ms/step - loss: 0.4976 - accuracy: 0.8696 - val_loss: 0.4002 - val_accuracy: 0.9333\n",
      "Epoch 106/300\n",
      "10/10 [==============================] - 0s 11ms/step - loss: 0.5036 - accuracy: 0.8696 - val_loss: 0.4015 - val_accuracy: 0.9333\n",
      "Epoch 107/300\n",
      "10/10 [==============================] - 0s 11ms/step - loss: 0.5083 - accuracy: 0.8595 - val_loss: 0.3939 - val_accuracy: 0.9333\n",
      "Epoch 108/300\n",
      "10/10 [==============================] - 0s 10ms/step - loss: 0.4929 - accuracy: 0.8662 - val_loss: 0.4003 - val_accuracy: 0.9333\n",
      "Epoch 109/300\n",
      "10/10 [==============================] - 0s 11ms/step - loss: 0.4931 - accuracy: 0.8662 - val_loss: 0.3902 - val_accuracy: 0.9333\n",
      "Epoch 110/300\n",
      "10/10 [==============================] - 0s 15ms/step - loss: 0.4941 - accuracy: 0.8696 - val_loss: 0.3990 - val_accuracy: 0.9333\n",
      "Epoch 111/300\n",
      "10/10 [==============================] - 0s 12ms/step - loss: 0.4890 - accuracy: 0.8763 - val_loss: 0.3893 - val_accuracy: 0.9333\n",
      "Epoch 112/300\n",
      "10/10 [==============================] - 0s 10ms/step - loss: 0.4884 - accuracy: 0.8696 - val_loss: 0.3846 - val_accuracy: 0.9333\n",
      "Epoch 113/300\n",
      "10/10 [==============================] - 0s 11ms/step - loss: 0.4887 - accuracy: 0.8696 - val_loss: 0.3898 - val_accuracy: 0.9333\n",
      "Epoch 114/300\n",
      "10/10 [==============================] - 0s 10ms/step - loss: 0.4846 - accuracy: 0.8729 - val_loss: 0.3840 - val_accuracy: 0.9333\n",
      "Epoch 115/300\n"
     ]
    },
    {
     "name": "stdout",
     "output_type": "stream",
     "text": [
      "10/10 [==============================] - 0s 10ms/step - loss: 0.4852 - accuracy: 0.8696 - val_loss: 0.3817 - val_accuracy: 0.9333\n",
      "Epoch 116/300\n",
      "10/10 [==============================] - 0s 12ms/step - loss: 0.4826 - accuracy: 0.8696 - val_loss: 0.3805 - val_accuracy: 0.9333\n",
      "Epoch 117/300\n",
      "10/10 [==============================] - 0s 10ms/step - loss: 0.4829 - accuracy: 0.8696 - val_loss: 0.3873 - val_accuracy: 0.9333\n",
      "Epoch 118/300\n",
      "10/10 [==============================] - 0s 11ms/step - loss: 0.4812 - accuracy: 0.8729 - val_loss: 0.3833 - val_accuracy: 0.9333\n",
      "Epoch 119/300\n",
      "10/10 [==============================] - 0s 12ms/step - loss: 0.4813 - accuracy: 0.8696 - val_loss: 0.3835 - val_accuracy: 0.9333\n",
      "Epoch 119: early stopping\n"
     ]
    }
   ],
   "source": [
    "from tensorflow.keras.callbacks import EarlyStopping\n",
    "early_stopping = EarlyStopping(monitor='val_loss', patience=3, verbose=1)\n",
    "\n",
    "history = model.fit(X_train,y_train,validation_data = (X_test,y_test),epochs = 300,callbacks=early_stopping)"
   ]
  },
  {
   "cell_type": "code",
   "execution_count": 137,
   "id": "9024fd58",
   "metadata": {},
   "outputs": [
    {
     "name": "stdout",
     "output_type": "stream",
     "text": [
      "WARNING:tensorflow:5 out of the last 13 calls to <function Model.make_predict_function.<locals>.predict_function at 0x000001EBC0DC6F70> triggered tf.function retracing. Tracing is expensive and the excessive number of tracings could be due to (1) creating @tf.function repeatedly in a loop, (2) passing tensors with different shapes, (3) passing Python objects instead of tensors. For (1), please define your @tf.function outside of the loop. For (2), @tf.function has reduce_retracing=True option that can avoid unnecessary retracing. For (3), please refer to https://www.tensorflow.org/guide/function#controlling_retracing and https://www.tensorflow.org/api_docs/python/tf/function for  more details.\n",
      "3/3 [==============================] - 0s 9ms/step\n",
      "accuracy : 0.9333333333333333\n",
      "precision : 0.9314814814814815\n",
      "recall : 0.914470284237726\n"
     ]
    },
    {
     "data": {
      "image/png": "[encoded data removed]",
      "text/plain": [
       "<Figure size 640x480 with 1 Axes>"
      ]
     },
     "metadata": {},
     "output_type": "display_data"
    }
   ],
   "source": [
    "plt.plot(history.history[\"accuracy\"],c='b')\n",
    "plt.plot(history.history[\"val_accuracy\"],c='r')\n",
    "plt.grid()\n",
    "plt.legend([\"Training Acc\",\"Validation Acc\"])\n",
    "\n",
    "import sklearn.metrics as metrics\n",
    "import numpy as np\n",
    "y_pred = model.predict(X_test)\n",
    "y_pred = np.argmax(y_pred, axis=1)\n",
    "#print(y_pred)\n",
    "\n",
    "acc = metrics.accuracy_score(y_test,y_pred)\n",
    "precision = metrics.precision_score(y_test,y_pred,average='macro')\n",
    "recall = metrics.recall_score(y_test,y_pred,average='macro')\n",
    "\n",
    "print(f'accuracy : {acc}')\n",
    "print(f'precision : {precision}')\n",
    "print(f'recall : {recall}')"
   ]
  },
  {
   "cell_type": "code",
   "execution_count": 138,
   "id": "a1f25178",
   "metadata": {},
   "outputs": [
    {
     "data": {
      "text/plain": [
       "<matplotlib.legend.Legend at 0x1ebc0e6a880>"
      ]
     },
     "execution_count": 138,
     "metadata": {},
     "output_type": "execute_result"
    },
    {
     "data": {
      "image/png": "[encoded data removed]",
      "text/plain": [
       "<Figure size 640x480 with 1 Axes>"
      ]
     },
     "metadata": {},
     "output_type": "display_data"
    }
   ],
   "source": [
    "plt.plot(history.history['loss'],c = \"b\")\n",
    "plt.plot(history.history[\"val_loss\"],c =\"r\")\n",
    "plt.grid()\n",
    "plt.legend([\"Training Loss\",\"Validatoin Loss\"])"
   ]
  },
  {
   "cell_type": "code",
   "execution_count": null,
   "id": "38ed49c6",
   "metadata": {},
   "outputs": [],
   "source": []
  }
 ],
 "metadata": {
  "kernelspec": {
   "display_name": "Python 3 (ipykernel)",
   "language": "python",
   "name": "python3"
  },
  "language_info": {
   "codemirror_mode": {
    "name": "ipython",
    "version": 3
   },
   "file_extension": ".py",
   "mimetype": "text/x-python",
   "name": "python",
   "nbconvert_exporter": "python",
   "pygments_lexer": "ipython3",
   "version": "3.9.17"
  }
 },
 "nbformat": 4,
 "nbformat_minor": 5
}
